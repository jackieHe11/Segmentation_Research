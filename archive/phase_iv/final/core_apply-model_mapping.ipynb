{
 "cells": [
  {
   "cell_type": "markdown",
   "metadata": {},
   "source": [
    "# Core: Applying Classifier for Mapping\n",
    "Utilize already-trained model to create comprehensive LULC classifications from imagery, either downloaded or on-the-fly. Using chips and scoring models is not included. Not dependent on number of output categories.  \n",
    "  \n",
    "Date: 2020-01-14\n",
    "\n",
    "Author: DC Team  "
   ]
  },
  {
   "cell_type": "markdown",
   "metadata": {},
   "source": [
    "### Import statements"
   ]
  },
  {
   "cell_type": "code",
   "execution_count": null,
   "metadata": {},
   "outputs": [],
   "source": [
    "# typical, comprehensive imports\n",
    "import warnings\n",
    "warnings.filterwarnings('ignore')\n",
    "#\n",
    "import os\n",
    "import sys\n",
    "import shapely\n",
    "import cartopy\n",
    "get_ipython().magic(u'matplotlib inline')\n",
    "import matplotlib.pyplot as plt\n",
    "\n",
    "import tensorflow as tf\n",
    "\n",
    "import descarteslabs as dl\n",
    "print (dl.places.find('illinois')) ## TEST\n",
    "\n",
    "ULU_REPO = os.environ[\"ULU_REPO\"]\n",
    "if not ULU_REPO in sys.path:\n",
    "    sys.path.append(ULU_REPO+'/utils')\n",
    "    sys.path.append(ULU_REPO)\n",
    "print (sys.path)\n",
    "\n",
    "import util_vectors\n",
    "import util_workflow\n",
    "import util_mapping"
   ]
  },
  {
   "cell_type": "markdown",
   "metadata": {},
   "source": [
    "## Preparation"
   ]
  },
  {
   "cell_type": "markdown",
   "metadata": {},
   "source": [
    "### Set key variables"
   ]
  },
  {
   "cell_type": "code",
   "execution_count": null,
   "metadata": {},
   "outputs": [],
   "source": [
    "# core\n",
    "data_root='/data/phase_iv/'\n",
    "place = 'johannesburg'\n",
    "data_path=data_root+place+'/'\n",
    "\n",
    "resolution = 5  # Lx:15 S2:10\n",
    "\n",
    "# tiling\n",
    "tile_resolution = resolution\n",
    "tile_size = 256\n",
    "tile_pad = 32\n",
    "\n",
    "# ground truth source: aue, aue+osm, aue+osm2\n",
    "# label_suffix = 'aue'"
   ]
  },
  {
   "cell_type": "markdown",
   "metadata": {},
   "source": [
    "### Load and inspect study area"
   ]
  },
  {
   "cell_type": "code",
   "execution_count": null,
   "metadata": {
    "scrolled": true
   },
   "outputs": [],
   "source": [
    "# print place, place.title() # capitalized version of place name\n",
    "place_title = place.title()\n",
    "place_shapefile = data_path+place_title+\"_studyAreaEPSG4326.shp\"\n",
    "\n",
    "# util_vectors.info_studyareas(data_path, place)\n",
    "\n",
    "shape = util_vectors.load_shape(place_shapefile)\n",
    "polygon = shape['geometry']['coordinates']\n",
    "# print(polygon)\n",
    "# pprint(shape)\n",
    "place_bbox = shape['bbox']\n",
    "# print(bbox)\n",
    "\n",
    "# using Albers projection\n",
    "lonlat_crs = cartopy.crs.PlateCarree()\n",
    "clat, clon = (place_bbox[0]+place_bbox[2])/2.0, (place_bbox[1]+place_bbox[3])/2.0\n",
    "print (\"center co-ordinates\", clat, clon)\n",
    "albers = cartopy.crs.AlbersEqualArea(central_latitude=clat, central_longitude=clon)\n",
    "\n",
    "# visualize Study Region\n",
    "fig = plt.figure(figsize=(6,6))\n",
    "ax = plt.subplot(projection=albers) # Specify projection of the map here\n",
    "shp = shapely.geometry.shape(shape['geometry'])\n",
    "ax.add_geometries([shp], lonlat_crs)\n",
    "ax.set_extent((place_bbox[0], place_bbox[2], place_bbox[1], place_bbox[3]), crs=lonlat_crs)\n",
    "ax.gridlines(crs=lonlat_crs)\n",
    "plt.show()"
   ]
  },
  {
   "cell_type": "markdown",
   "metadata": {},
   "source": [
    "### Generate tiles"
   ]
  },
  {
   "cell_type": "code",
   "execution_count": null,
   "metadata": {
    "scrolled": true
   },
   "outputs": [],
   "source": [
    "tiles = dl.raster.dltiles_from_shape(tile_resolution, tile_size, tile_pad, shape)\n",
    "single_tile_id = 22\n",
    "highlights = {single_tile_id:'green'}\n",
    "util_vectors.draw_tiled_area(shape, tiles, albers, lonlat_crs, highlights=highlights)"
   ]
  },
  {
   "cell_type": "markdown",
   "metadata": {},
   "source": [
    "### Set input stack and model parameters"
   ]
  },
  {
   "cell_type": "code",
   "execution_count": null,
   "metadata": {
    "scrolled": true
   },
   "outputs": [],
   "source": [
    "window = 17\n",
    "\n",
    "model_id = '6cat_7city_EastAfrica'"
   ]
  },
  {
   "cell_type": "markdown",
   "metadata": {},
   "source": [
    "### Load model\n",
    "Includes loading custom loss function used during training"
   ]
  },
  {
   "cell_type": "code",
   "execution_count": null,
   "metadata": {
    "scrolled": true
   },
   "outputs": [],
   "source": [
    "# category_weights_filename = data_root+'models/'+model_id+'_category_weights.pkl'\n",
    "# category_weights = pickle.load( open( category_weights_filename, \"rb\" ) )\n",
    "# weights = list(zip(*category_weights.items())[1])\n",
    "\n",
    "network_filename = data_root+'models/'+model_id+'.hd5'\n",
    "network = tf.keras.models.load_model(\n",
    "    network_filename,\n",
    "    custom_objects={'loss': 'categorical_crossentropy'},\n",
    "    compile=True\n",
    ")\n",
    "# network = K.load_model(network_filename, custom_objects={'loss': 'categorical-crossentropy'})\n",
    "network.summary()"
   ]
  },
  {
   "cell_type": "markdown",
   "metadata": {},
   "source": [
    "***"
   ]
  },
  {
   "cell_type": "markdown",
   "metadata": {},
   "source": [
    "## Apply model: mapping\n",
    "Apply model to imagery to classify all pixels in all non-empty tiles in all scenes."
   ]
  },
  {
   "cell_type": "code",
   "execution_count": null,
   "metadata": {},
   "outputs": [],
   "source": [
    "zfill=4\n",
    "store_predictions=True\n",
    "map_id=place+'_'+model_id+'_20191004'"
   ]
  },
  {
   "cell_type": "code",
   "execution_count": null,
   "metadata": {},
   "outputs": [],
   "source": [
    "# johannesburg\n",
    "scene_ids = ['sentinel-2:L1C:2019-10-04_35JNL_74_S2B_v1',\n",
    "             'sentinel-2:L1C:2019-10-04_35JNM_52_S2B_v1',\n",
    "             'sentinel-2:L1C:2019-10-04_35JPL_99_S2B_v1',\n",
    "             'sentinel-2:L1C:2019-10-04_35JPM_99_S2B_v1']\n",
    "\n",
    "# kampala\n",
    "# scene_ids = ['sentinel-2:L1C:2019-12-31_36NVF_99_S2A_v1']"
   ]
  },
  {
   "cell_type": "code",
   "execution_count": null,
   "metadata": {},
   "outputs": [],
   "source": [
    "util_mapping.map_scenes_simple(scene_ids, tiles, network, \n",
    "                               window=window, \n",
    "                               zfill=zfill, \n",
    "                               store_predictions=store_predictions, \n",
    "                               map_id=map_id)"
   ]
  },
  {
   "cell_type": "markdown",
   "metadata": {},
   "source": [
    "### Combine model-generated tiles into mosaic\n",
    "Optional step to create single, city-wide LULC raster for each scene mapped. Complete map is stored in same folder as constituent tiles."
   ]
  },
  {
   "cell_type": "code",
   "execution_count": null,
   "metadata": {
    "scrolled": true
   },
   "outputs": [],
   "source": [
    "for scene_id in scene_ids:\n",
    "    scene_id_short = scene_id[str.rfind(scene_id,':')+1:]\n",
    "    if map_id is not None:\n",
    "        scene_dir = data_root + 'scenes/' + map_id + '/' + scene_id_short\n",
    "    else:\n",
    "        scene_dir = data_root + 'scenes/' + scene_id_short\n",
    "        \n",
    "    path_template = scene_dir+'/'+scene_id_short+'_'+str(tile_resolution)+'m'+'_'+'p'+str(tile_pad)+'_'+\\\n",
    "            'tile'+'???????'[0:zfill]+'_'+'lulc'+'.tif'\n",
    "    path_destination = scene_dir+'/'+scene_id_short+'_'+str(tile_resolution)+'m'+'_'+'p'+str(tile_pad)+'_'+\\\n",
    "            'complete'+'_'+'lulc'+'.tif'\n",
    "    print(path_template)\n",
    "    print(path_destination)\n",
    "    !gdal_merge.py -n 255 -a_nodata 255 -o {path_destination} {path_template}\n"
   ]
  },
  {
   "cell_type": "markdown",
   "metadata": {},
   "source": [
    "***"
   ]
  }
 ],
 "metadata": {
  "kernelspec": {
   "display_name": "Python 3",
   "language": "python",
   "name": "python3"
  },
  "language_info": {
   "codemirror_mode": {
    "name": "ipython",
    "version": 3
   },
   "file_extension": ".py",
   "mimetype": "text/x-python",
   "name": "python",
   "nbconvert_exporter": "python",
   "pygments_lexer": "ipython3",
   "version": "3.6.9"
  }
 },
 "nbformat": 4,
 "nbformat_minor": 2
}
