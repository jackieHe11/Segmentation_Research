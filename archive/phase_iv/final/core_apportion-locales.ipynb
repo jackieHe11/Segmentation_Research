{
 "cells": [
  {
   "cell_type": "markdown",
   "metadata": {},
   "source": [
    "# Core: Assign locales to training & validation tranches\n",
    "Creates pickle file that assigns locales to either the training or the validation tranche, and then stores that information in a permanent file. This is a necessary input for model training. This step only needs to be performed once per city.\n",
    "\n",
    "Date: 2019-09-19  \n",
    "Author: Eric Pietraszkiewicz, Peter Kerins  "
   ]
  },
  {
   "cell_type": "markdown",
   "metadata": {},
   "source": [
    "## Preparation"
   ]
  },
  {
   "cell_type": "markdown",
   "metadata": {},
   "source": [
    "### Import statements\n",
    "(may be over-inclusive)"
   ]
  },
  {
   "cell_type": "code",
   "execution_count": null,
   "metadata": {},
   "outputs": [],
   "source": [
    "# typical, comprehensive imports\n",
    "import warnings\n",
    "warnings.filterwarnings('ignore')\n",
    "#\n",
    "import os\n",
    "import sys\n",
    "import json\n",
    "import itertools\n",
    "import pickle\n",
    "from pprint import pprint\n",
    "#\n",
    "import numpy as np\n",
    "\n",
    "import pandas as pd\n",
    "import ogr, gdal\n",
    "\n",
    "import collections\n",
    "from pprint import pprint\n",
    "\n",
    "import descarteslabs as dl\n",
    "# print dl.places.find('illinois') ## TEST\n",
    "\n",
    "ULU_REPO = os.environ[\"ULU_REPO\"]\n",
    "sys.path.append(ULU_REPO+'/utils')\n",
    "sys.path.append(ULU_REPO)\n",
    "print(sys.path)\n",
    "\n",
    "import util_descartes\n",
    "import util_ml\n",
    "import util_rasters\n",
    "import util_vectors\n",
    "import util_workflow\n",
    "import util_chips\n",
    "import util_training\n",
    "import util_network\n",
    "import util_scoring"
   ]
  },
  {
   "cell_type": "markdown",
   "metadata": {},
   "source": [
    "### Set key variables"
   ]
  },
  {
   "cell_type": "code",
   "execution_count": null,
   "metadata": {},
   "outputs": [],
   "source": [
    "data_root='/data/phase_iv/'\n",
    "\n",
    "tile_resolution = 5\n",
    "tile_size = 256\n",
    "tile_pad = 32\n",
    "resolution=tile_resolution  # Lx:15 S2:10\n",
    "\n",
    "processing_level = None\n",
    "source = 's2'\n",
    "\n",
    "s2_bands=['blue','green','red','nir','swir1','swir2','alpha']; s2_suffix='BGRNS1S2A'  # S2, Lx\n",
    "\n",
    "s1_bands=['vv','vh']; s1_suffix='VVVH'  \n",
    "\n",
    "resampling='bilinear'\n",
    "processing = None\n",
    "\n",
    "label_suffix = 'aue'\n",
    "label_lot = '0'"
   ]
  },
  {
   "cell_type": "code",
   "execution_count": null,
   "metadata": {},
   "outputs": [],
   "source": [
    "place = 'addis-ababa'"
   ]
  },
  {
   "cell_type": "markdown",
   "metadata": {},
   "source": [
    "#### Create new dataset for training"
   ]
  },
  {
   "cell_type": "code",
   "execution_count": null,
   "metadata": {
    "scrolled": true
   },
   "outputs": [],
   "source": [
    "catalog_path= data_root+'chip_catalog_'+place+'.csv'\n",
    "df = util_chips.load_catalog(catalog_path)\n",
    "print(len(df.index))"
   ]
  },
  {
   "cell_type": "code",
   "execution_count": null,
   "metadata": {},
   "outputs": [],
   "source": [
    "df.groupby('city').count()"
   ]
  },
  {
   "cell_type": "markdown",
   "metadata": {},
   "source": [
    "#### Masking without excluding locales"
   ]
  },
  {
   "cell_type": "code",
   "execution_count": null,
   "metadata": {},
   "outputs": [],
   "source": [
    "mask = pd.Series(data=np.ones(len(df.index),dtype='uint8'), index=range(len(df)), dtype='uint8')\n",
    "\n",
    "mask &= (df['city']==place)\n",
    "print(np.sum(mask))\n",
    "\n",
    "# filter others according to specifications\n",
    "mask &= (df['gt_type']==label_suffix)\n",
    "mask &= (df['gt_lot']==int(label_lot))\n",
    "mask &= (df['source']==source)\n",
    "mask &= (df['resolution']==int(resolution))\n",
    "mask &= (df['resampling']==resampling)\n",
    "mask &= (df['processing']==str(processing).lower())\n",
    "\n",
    "print(np.sum(mask))"
   ]
  },
  {
   "cell_type": "code",
   "execution_count": null,
   "metadata": {},
   "outputs": [],
   "source": [
    "df = df[mask]\n",
    "df.reset_index(drop=True,inplace=True)\n",
    "len(df)"
   ]
  },
  {
   "cell_type": "code",
   "execution_count": null,
   "metadata": {},
   "outputs": [],
   "source": [
    "# make place locales if pickle files dont already exist!\n",
    "place_locales = util_chips.apportion_locales(df)\n",
    "print (place_locales)"
   ]
  },
  {
   "cell_type": "markdown",
   "metadata": {},
   "source": [
    "#### Store object(s)"
   ]
  },
  {
   "cell_type": "code",
   "execution_count": null,
   "metadata": {},
   "outputs": [],
   "source": [
    "for place, locales in place_locales.items():\n",
    "    place_locales_filename = data_root+'models/'+'locales'+'_'+place+'.pkl'\n",
    "    if not os.path.exists(place_locales_filename):\n",
    "        pickle.dump(place_locales, open(place_locales_filename, 'wb'))\n",
    "    else:\n",
    "        print('File already exists with name: '+ place_locales_filename)"
   ]
  },
  {
   "cell_type": "markdown",
   "metadata": {},
   "source": [
    "---"
   ]
  }
 ],
 "metadata": {
  "kernelspec": {
   "display_name": "Python [conda env:geoml]",
   "language": "python",
   "name": "conda-env-geoml-py"
  },
  "language_info": {
   "codemirror_mode": {
    "name": "ipython",
    "version": 3
   },
   "file_extension": ".py",
   "mimetype": "text/x-python",
   "name": "python",
   "nbconvert_exporter": "python",
   "pygments_lexer": "ipython3",
   "version": "3.6.9"
  }
 },
 "nbformat": 4,
 "nbformat_minor": 2
}
