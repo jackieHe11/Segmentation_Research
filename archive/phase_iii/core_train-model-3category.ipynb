{
 "cells": [
  {
   "cell_type": "markdown",
   "metadata": {},
   "source": [
    "# Core Workflow: Train 3-Category Classifier\n",
    "Use the latest and greatest model structures, parameters, workflow (ie class weighting, learning fast & slow, etc) to train a 3-category classifier using only the non-road training samples.\n",
    "  \n",
    "Date: 2018-12-05  \n",
    "Author: Full team"
   ]
  },
  {
   "cell_type": "markdown",
   "metadata": {},
   "source": [
    "### Import statements\n",
    "(may be over-inclusive)"
   ]
  },
  {
   "cell_type": "code",
   "execution_count": 1,
   "metadata": {},
   "outputs": [
    {
     "name": "stderr",
     "output_type": "stream",
     "text": [
      "Using TensorFlow backend.\n"
     ]
    },
    {
     "name": "stdout",
     "output_type": "stream",
     "text": [
      "[{u'name': u'Illinois', u'id': 85688697, u'placetype': u'region', u'bbox': [-91.512974, 36.970298, -87.019935, 42.508302], u'path': u'continent:north-america_country:united-states_region:illinois', u'slug': u'north-america_united-states_illinois'}]\n",
      "['', '/usr/lib/python2.7', '/usr/lib/python2.7/plat-x86_64-linux-gnu', '/usr/lib/python2.7/lib-tk', '/usr/lib/python2.7/lib-old', '/usr/lib/python2.7/lib-dynload', '/home/Peter.Kerins/.local/lib/python2.7/site-packages', '/usr/local/lib/python2.7/dist-packages', '/usr/lib/python2.7/dist-packages', '/usr/lib/python2.7/dist-packages/PILcompat', '/usr/lib/python2.7/dist-packages/gtk-2.0', '/usr/local/lib/python2.7/dist-packages/IPython/extensions', '/home/Peter.Kerins/.ipython', '/home/Peter.Kerins/UrbanLandUse/utils']\n"
     ]
    }
   ],
   "source": [
    "# typical, comprehensive imports\n",
    "import warnings\n",
    "warnings.filterwarnings('ignore')\n",
    "#\n",
    "import os\n",
    "import sys\n",
    "import json\n",
    "import itertools\n",
    "import pickle\n",
    "from pprint import pprint\n",
    "#\n",
    "import numpy as np\n",
    "import shapely\n",
    "import cartopy\n",
    "import geojson\n",
    "import fiona\n",
    "import gdal\n",
    "import h5py\n",
    "get_ipython().magic(u'matplotlib inline')\n",
    "import matplotlib.pyplot as plt\n",
    "import sklearn\n",
    "from sklearn.preprocessing import StandardScaler \n",
    "import ogr, gdal\n",
    "from keras.models import load_model\n",
    "import math\n",
    "from keras.utils import to_categorical\n",
    "from keras.models import load_model\n",
    "from keras import models\n",
    "from keras import layers\n",
    "from keras.layers import Dropout\n",
    "from keras.utils import to_categorical\n",
    "from skimage import measure\n",
    "from skimage import filters\n",
    "from scipy import stats\n",
    "\n",
    "import tensorflow as tf\n",
    "\n",
    "import keras\n",
    "import keras.backend as K\n",
    "from keras.models import Model\n",
    "from keras.layers import Dense, Dropout, Activation, Flatten\n",
    "from keras.layers import Conv2D, MaxPooling2D\n",
    "from keras.layers import Input, Add, Lambda\n",
    "from keras.callbacks import EarlyStopping, ModelCheckpoint, History\n",
    "\n",
    "import collections\n",
    "\n",
    "import descarteslabs as dl\n",
    "print dl.places.find('illinois') ## TEST\n",
    "\n",
    "#ULU_REPO = os.environ[\"ULU_REPO\"]\n",
    "#sys.path.append(ULU_REPO+'/utils')\n",
    "sys.path.append('/home/Peter.Kerins/UrbanLandUse/utils')\n",
    "print sys.path\n",
    "\n",
    "import util_descartes\n",
    "import util_ml\n",
    "import util_rasters\n",
    "import util_vectors\n",
    "import util_workflow\n",
    "import util_keras\n"
   ]
  },
  {
   "cell_type": "markdown",
   "metadata": {},
   "source": [
    "### Set key variables"
   ]
  },
  {
   "cell_type": "code",
   "execution_count": 2,
   "metadata": {},
   "outputs": [],
   "source": [
    "data_root='/data/phase_iii/'\n",
    "\n",
    "bands=['blue','green','red','nir','swir1','swir2','alpha']; suffix='BGRNS1S2A'  # S2, Lx\n",
    "resolution=5  # Lx:15 S2:10\n",
    "\n",
    "s1_bands=['vv','vh']; s1_suffix='VVVH'\n",
    "s1_resolution = resolution\n",
    "\n",
    "ndvi_bands = ['raw'];\n",
    "\n",
    "tile_resolution = resolution\n",
    "tile_size = 256\n",
    "tile_pad = 16\n",
    "\n",
    "# ground truth source: aue, aue+osm, aue+osm2\n",
    "label_suffix = 'aue'\n",
    "\n",
    "# NYU AoUE land use/land cover categories\n",
    "category_label = {0:'Open Space',1:'Non-Residential',\\\n",
    "                   2:'Residential Atomistic',3:'Residential Informal Subdivision',\\\n",
    "                   4:'Residential Formal Subdivision',5:'Residential Housing Project',\\\n",
    "                   6:'Roads',7:'Study Area',8:'Labeled Study Area',254:'No Data',255:'No Label'}"
   ]
  },
  {
   "cell_type": "markdown",
   "metadata": {},
   "source": [
    "### Specify training data & training parameters"
   ]
  },
  {
   "cell_type": "code",
   "execution_count": 3,
   "metadata": {},
   "outputs": [],
   "source": [
    "window = 17\n",
    "\n",
    "cats_map = {}\n",
    "cats_map[0] = 0\n",
    "cats_map[1] = 1\n",
    "cats_map[2] = 4\n",
    "cats_map[3] = 4\n",
    "cats_map[4] = 4\n",
    "cats_map[5] = 4\n",
    "cats_map[6] = 6\n",
    "\n",
    "bands_vir=bands[:-1]\n",
    "bands_sar=None\n",
    "bands_ndvi=ndvi_bands\n",
    "bands_ndbi=None\n",
    "bands_osm=None\n",
    "\n",
    "haze_removal = False\n",
    "\n",
    "\n",
    "epochs = 500\n",
    "batch_size = 128\n",
    "balancing = None"
   ]
  },
  {
   "cell_type": "code",
   "execution_count": 4,
   "metadata": {},
   "outputs": [
    {
     "name": "stdout",
     "output_type": "stream",
     "text": [
      "vir+ndvi 7\n"
     ]
    }
   ],
   "source": [
    "stack_label, feature_count = util_workflow.build_stack_label(\n",
    "        bands_vir=bands_vir,\n",
    "        bands_sar=bands_sar,\n",
    "        bands_ndvi=bands_ndvi,\n",
    "        bands_ndbi=bands_ndbi,\n",
    "        bands_osm=bands_osm,)\n",
    "print stack_label, feature_count"
   ]
  },
  {
   "cell_type": "markdown",
   "metadata": {},
   "source": [
    "### Build training data \"superset\"\n",
    "The \"superset\" of training data used to actually train a model can be a combination of any number of stored training data sets built from particular input stacks. These constituent sets can come from one or many cities. The only requirement is that they are all consistent in construction, ie are built from the same input stack."
   ]
  },
  {
   "cell_type": "code",
   "execution_count": 5,
   "metadata": {
    "scrolled": true
   },
   "outputs": [
    {
     "name": "stdout",
     "output_type": "stream",
     "text": [
      "calculate total size of training and validation supersets\n",
      "/data/phase_iii/hyderabad/hyderabad_train_aue_5m_vir+ndvi_17w_P.pkl\n",
      "/data/phase_iii/hyderabad/hyderabad_valid_aue_5m_vir+ndvi_17w_P.pkl\n",
      "(223806, 2023) (223806,) (95918, 2023) (95918,)\n",
      "/data/phase_iii/hyderabad/hyderabad_train_aue_5m_vir+ndvi_17w_Q.pkl\n",
      "/data/phase_iii/hyderabad/hyderabad_valid_aue_5m_vir+ndvi_17w_Q.pkl\n",
      "(223806, 2023) (223806,) (95918, 2023) (95918,)\n",
      "/data/phase_iii/hyderabad/hyderabad_train_aue_5m_vir+ndvi_17w_R.pkl\n",
      "/data/phase_iii/hyderabad/hyderabad_valid_aue_5m_vir+ndvi_17w_R.pkl\n",
      "(223806, 2023) (223806,) (95918, 2023) (95918,)\n",
      "/data/phase_iii/hyderabad/hyderabad_train_aue_5m_vir+ndvi_17w_S.pkl\n",
      "/data/phase_iii/hyderabad/hyderabad_valid_aue_5m_vir+ndvi_17w_S.pkl\n",
      "(223806, 2023) (223806,) (95918, 2023) (95918,)\n",
      "/data/phase_iii/hyderabad/hyderabad_train_aue_5m_vir+ndvi_17w_T.pkl\n",
      "/data/phase_iii/hyderabad/hyderabad_valid_aue_5m_vir+ndvi_17w_T.pkl\n",
      "(223806, 2023) (223806,) (95918, 2023) (95918,)\n",
      "/data/phase_iii/hyderabad/hyderabad_train_aue_5m_vir+ndvi_17w_U.pkl\n",
      "/data/phase_iii/hyderabad/hyderabad_valid_aue_5m_vir+ndvi_17w_U.pkl\n",
      "(223806, 2023) (223806,) (95918, 2023) (95918,)\n",
      "1342836 575508\n",
      "construct np arrays for supersets\n",
      "populate superset np arrays\n",
      "/data/phase_iii/hyderabad/hyderabad_train_aue_5m_vir+ndvi_17w_P.pkl\n",
      "/data/phase_iii/hyderabad/hyderabad_valid_aue_5m_vir+ndvi_17w_P.pkl\n",
      "(223806, 2023) (223806,) (95918, 2023) (95918,)\n",
      "/data/phase_iii/hyderabad/hyderabad_train_aue_5m_vir+ndvi_17w_Q.pkl\n",
      "/data/phase_iii/hyderabad/hyderabad_valid_aue_5m_vir+ndvi_17w_Q.pkl\n",
      "(223806, 2023) (223806,) (95918, 2023) (95918,)\n",
      "/data/phase_iii/hyderabad/hyderabad_train_aue_5m_vir+ndvi_17w_R.pkl\n",
      "/data/phase_iii/hyderabad/hyderabad_valid_aue_5m_vir+ndvi_17w_R.pkl\n",
      "(223806, 2023) (223806,) (95918, 2023) (95918,)\n",
      "/data/phase_iii/hyderabad/hyderabad_train_aue_5m_vir+ndvi_17w_S.pkl\n",
      "/data/phase_iii/hyderabad/hyderabad_valid_aue_5m_vir+ndvi_17w_S.pkl\n",
      "(223806, 2023) (223806,) (95918, 2023) (95918,)\n",
      "/data/phase_iii/hyderabad/hyderabad_train_aue_5m_vir+ndvi_17w_T.pkl\n",
      "/data/phase_iii/hyderabad/hyderabad_valid_aue_5m_vir+ndvi_17w_T.pkl\n",
      "(223806, 2023) (223806,) (95918, 2023) (95918,)\n",
      "/data/phase_iii/hyderabad/hyderabad_train_aue_5m_vir+ndvi_17w_U.pkl\n",
      "/data/phase_iii/hyderabad/hyderabad_valid_aue_5m_vir+ndvi_17w_U.pkl\n",
      "(223806, 2023) (223806,) (95918, 2023) (95918,)\n",
      "(1342836, 2023) (1342836,)\n"
     ]
    }
   ],
   "source": [
    "reload(util_workflow)\n",
    "place_images = {}\n",
    "\n",
    "place_images['hyderabad'] = ['P','Q','R','S','T','U']\n",
    "\n",
    "X_train_raw, Y_train_raw, X_valid_raw, Y_valid_raw = util_workflow.load_datasets(place_images, data_root, label_suffix, stack_label, window, resolution=resolution)"
   ]
  },
  {
   "cell_type": "markdown",
   "metadata": {},
   "source": [
    "### Scale training data"
   ]
  },
  {
   "cell_type": "code",
   "execution_count": 6,
   "metadata": {},
   "outputs": [
    {
     "name": "stdout",
     "output_type": "stream",
     "text": [
      "(1342836, 2023) (575508, 2023)\n",
      "(1342836, 2023) (575508, 2023)\n"
     ]
    }
   ],
   "source": [
    "X_train_raw_scaled, X_valid_raw_scaled, scaler = util_ml.scale_learning_data(X_train_raw, X_valid_raw)\n",
    "print X_train_raw_scaled.shape,  X_valid_raw_scaled.shape"
   ]
  },
  {
   "cell_type": "code",
   "execution_count": 7,
   "metadata": {},
   "outputs": [],
   "source": [
    "del X_train_raw, X_valid_raw"
   ]
  },
  {
   "cell_type": "code",
   "execution_count": 8,
   "metadata": {
    "scrolled": true
   },
   "outputs": [],
   "source": [
    "X_train = X_train_raw_scaled.reshape((X_train_raw_scaled.shape[0],feature_count,window,window))\n",
    "X_valid = X_valid_raw_scaled.reshape((X_valid_raw_scaled.shape[0],feature_count,window,window))\n",
    "#print(X_train_raw[0])\n",
    "#print(X_train[0])"
   ]
  },
  {
   "cell_type": "code",
   "execution_count": 9,
   "metadata": {},
   "outputs": [],
   "source": [
    "del X_train_raw_scaled, X_valid_raw_scaled"
   ]
  },
  {
   "cell_type": "code",
   "execution_count": 10,
   "metadata": {},
   "outputs": [
    {
     "name": "stdout",
     "output_type": "stream",
     "text": [
      "(1342836, 7, 17, 17)\n"
     ]
    }
   ],
   "source": [
    "print X_train.shape"
   ]
  },
  {
   "cell_type": "markdown",
   "metadata": {},
   "source": [
    "### Prepare training data for ingestion\n",
    "This version of the workflow does not include class-balancing"
   ]
  },
  {
   "cell_type": "markdown",
   "metadata": {},
   "source": [
    "Remap original set of categories (from the Atlas of Urban Expansion) encoded in the ground-truth files and the training data files to a target typology (eg collapsing all residential LULC types to a single category)"
   ]
  },
  {
   "cell_type": "code",
   "execution_count": 11,
   "metadata": {},
   "outputs": [],
   "source": [
    "Y_train = Y_train_raw.copy()\n",
    "Y_valid = Y_valid_raw.copy()"
   ]
  },
  {
   "cell_type": "code",
   "execution_count": 12,
   "metadata": {},
   "outputs": [
    {
     "name": "stdout",
     "output_type": "stream",
     "text": [
      "(1342836,)\n",
      "(1342836,)\n"
     ]
    }
   ],
   "source": [
    "for k, v in cats_map.items():\n",
    "    Y_train[Y_train_raw==k] = v\n",
    "    Y_valid[Y_valid_raw==k] = v\n",
    "    \n",
    "print Y_train_raw.shape\n",
    "print Y_train.shape"
   ]
  },
  {
   "cell_type": "code",
   "execution_count": 13,
   "metadata": {},
   "outputs": [],
   "source": [
    "del Y_train_raw, Y_valid_raw"
   ]
  },
  {
   "cell_type": "markdown",
   "metadata": {},
   "source": [
    "Remove roads"
   ]
  },
  {
   "cell_type": "code",
   "execution_count": 14,
   "metadata": {},
   "outputs": [],
   "source": [
    "non_roads = np.where(Y_train!=6)\n",
    "Y_train = Y_train[non_roads]\n",
    "X_train = X_train[non_roads]\n",
    "non_roads = np.where(Y_valid!=6)\n",
    "Y_valid = Y_valid[non_roads]\n",
    "X_valid = X_valid[non_roads]"
   ]
  },
  {
   "cell_type": "markdown",
   "metadata": {},
   "source": [
    "Now reduce the remapped values to the categorical values required by the Keras library. These pre-processing steps could be consolidated, but represent two separate conceptual parts of the workflow, so are executed separately"
   ]
  },
  {
   "cell_type": "code",
   "execution_count": 15,
   "metadata": {},
   "outputs": [],
   "source": [
    "Y_t = Y_train.copy()\n",
    "Y_v = Y_valid.copy()\n",
    "\n",
    "Y_t[Y_train==0] = 0\n",
    "Y_t[Y_train==1] = 1\n",
    "Y_t[Y_train==4] = 2\n",
    "Y_t[Y_train==6] = 3\n",
    "\n",
    "Y_v[Y_valid==0] = 0\n",
    "Y_v[Y_valid==1] = 1\n",
    "Y_v[Y_valid==4] = 2\n",
    "Y_v[Y_valid==6] = 3"
   ]
  },
  {
   "cell_type": "markdown",
   "metadata": {},
   "source": [
    "Change Y data to one-hot structure"
   ]
  },
  {
   "cell_type": "code",
   "execution_count": 16,
   "metadata": {},
   "outputs": [],
   "source": [
    "categories_reduced = [0,1,2]\n",
    "\n",
    "Y_t_cat = to_categorical(Y_t)\n",
    "Y_v_cat = to_categorical(Y_v)"
   ]
  },
  {
   "cell_type": "code",
   "execution_count": 17,
   "metadata": {},
   "outputs": [
    {
     "name": "stdout",
     "output_type": "stream",
     "text": [
      "(1154574,)\n",
      "(1154574, 3)\n"
     ]
    }
   ],
   "source": [
    "print Y_t.shape\n",
    "print Y_t_cat.shape"
   ]
  },
  {
   "cell_type": "markdown",
   "metadata": {},
   "source": [
    "### Build convolutional neural network"
   ]
  },
  {
   "cell_type": "code",
   "execution_count": 18,
   "metadata": {},
   "outputs": [
    {
     "name": "stdout",
     "output_type": "stream",
     "text": [
      "('DEFAULT:', 'channels_last')\n",
      "('UPDATED:', 'channels_first')\n"
     ]
    }
   ],
   "source": [
    "print(\"DEFAULT:\",K.image_data_format())\n",
    "K.set_image_data_format('channels_first')\n",
    "print(\"UPDATED:\",K.image_data_format())"
   ]
  },
  {
   "cell_type": "code",
   "execution_count": 19,
   "metadata": {},
   "outputs": [],
   "source": [
    "NB_FILTERS_1=32\n",
    "NB_FILTERS_2=64"
   ]
  },
  {
   "cell_type": "markdown",
   "metadata": {},
   "source": [
    "Name and briefly describe model"
   ]
  },
  {
   "cell_type": "code",
   "execution_count": 20,
   "metadata": {},
   "outputs": [],
   "source": [
    "model_id = '3cat_Hyd_P-U'\n",
    "notes = 'testing 3-category, 5m, bilinear, normal groundtruth, green images from 2017 for Hyderabad'"
   ]
  },
  {
   "cell_type": "code",
   "execution_count": 21,
   "metadata": {
    "scrolled": true
   },
   "outputs": [
    {
     "name": "stdout",
     "output_type": "stream",
     "text": [
      "weights [1.3213210783520501, 1.6672451813132962, 1.0]\n",
      "__________________________________________________________________________________________________\n",
      "Layer (type)                    Output Shape         Param #     Connected to                     \n",
      "==================================================================================================\n",
      "input_1 (InputLayer)            (None, 7, 17, 17)    0                                            \n",
      "__________________________________________________________________________________________________\n",
      "conv2d_1 (Conv2D)               (None, 32, 17, 17)   5632        input_1[0][0]                    \n",
      "__________________________________________________________________________________________________\n",
      "conv2d_3 (Conv2D)               (None, 32, 17, 17)   2048        input_1[0][0]                    \n",
      "__________________________________________________________________________________________________\n",
      "activation_1 (Activation)       (None, 32, 17, 17)   0           conv2d_1[0][0]                   \n",
      "__________________________________________________________________________________________________\n",
      "activation_3 (Activation)       (None, 32, 17, 17)   0           conv2d_3[0][0]                   \n",
      "__________________________________________________________________________________________________\n",
      "conv2d_2 (Conv2D)               (None, 32, 17, 17)   25632       activation_1[0][0]               \n",
      "__________________________________________________________________________________________________\n",
      "conv2d_4 (Conv2D)               (None, 32, 17, 17)   9248        activation_3[0][0]               \n",
      "__________________________________________________________________________________________________\n",
      "activation_2 (Activation)       (None, 32, 17, 17)   0           conv2d_2[0][0]                   \n",
      "__________________________________________________________________________________________________\n",
      "activation_4 (Activation)       (None, 32, 17, 17)   0           conv2d_4[0][0]                   \n",
      "__________________________________________________________________________________________________\n",
      "conv2d_5 (Conv2D)               (None, 32, 17, 17)   256         input_1[0][0]                    \n",
      "__________________________________________________________________________________________________\n",
      "lambda_1 (Lambda)               (None, 32, 17, 17)   0           activation_2[0][0]               \n",
      "__________________________________________________________________________________________________\n",
      "lambda_2 (Lambda)               (None, 32, 17, 17)   0           activation_4[0][0]               \n",
      "__________________________________________________________________________________________________\n",
      "lambda_3 (Lambda)               (None, 32, 17, 17)   0           conv2d_5[0][0]                   \n",
      "__________________________________________________________________________________________________\n",
      "add_1 (Add)                     (None, 32, 17, 17)   0           lambda_1[0][0]                   \n",
      "                                                                 lambda_2[0][0]                   \n",
      "                                                                 lambda_3[0][0]                   \n",
      "__________________________________________________________________________________________________\n",
      "max_pooling2d_1 (MaxPooling2D)  (None, 32, 8, 8)     0           add_1[0][0]                      \n",
      "__________________________________________________________________________________________________\n",
      "dropout_1 (Dropout)             (None, 32, 8, 8)     0           max_pooling2d_1[0][0]            \n",
      "__________________________________________________________________________________________________\n",
      "conv2d_6 (Conv2D)               (None, 64, 8, 8)     51264       dropout_1[0][0]                  \n",
      "__________________________________________________________________________________________________\n",
      "conv2d_8 (Conv2D)               (None, 64, 8, 8)     18496       dropout_1[0][0]                  \n",
      "__________________________________________________________________________________________________\n",
      "activation_5 (Activation)       (None, 64, 8, 8)     0           conv2d_6[0][0]                   \n",
      "__________________________________________________________________________________________________\n",
      "activation_7 (Activation)       (None, 64, 8, 8)     0           conv2d_8[0][0]                   \n",
      "__________________________________________________________________________________________________\n",
      "conv2d_7 (Conv2D)               (None, 64, 8, 8)     102464      activation_5[0][0]               \n",
      "__________________________________________________________________________________________________\n",
      "conv2d_9 (Conv2D)               (None, 64, 8, 8)     36928       activation_7[0][0]               \n",
      "__________________________________________________________________________________________________\n",
      "activation_6 (Activation)       (None, 64, 8, 8)     0           conv2d_7[0][0]                   \n",
      "__________________________________________________________________________________________________\n",
      "activation_8 (Activation)       (None, 64, 8, 8)     0           conv2d_9[0][0]                   \n",
      "__________________________________________________________________________________________________\n",
      "conv2d_10 (Conv2D)              (None, 64, 8, 8)     2112        dropout_1[0][0]                  \n",
      "__________________________________________________________________________________________________\n",
      "lambda_4 (Lambda)               (None, 64, 8, 8)     0           activation_6[0][0]               \n",
      "__________________________________________________________________________________________________\n",
      "lambda_5 (Lambda)               (None, 64, 8, 8)     0           activation_8[0][0]               \n",
      "__________________________________________________________________________________________________\n",
      "lambda_6 (Lambda)               (None, 64, 8, 8)     0           conv2d_10[0][0]                  \n",
      "__________________________________________________________________________________________________\n",
      "add_2 (Add)                     (None, 64, 8, 8)     0           lambda_4[0][0]                   \n",
      "                                                                 lambda_5[0][0]                   \n",
      "                                                                 lambda_6[0][0]                   \n",
      "__________________________________________________________________________________________________\n",
      "max_pooling2d_2 (MaxPooling2D)  (None, 64, 4, 4)     0           add_2[0][0]                      \n",
      "__________________________________________________________________________________________________\n",
      "dropout_2 (Dropout)             (None, 64, 4, 4)     0           max_pooling2d_2[0][0]            \n",
      "__________________________________________________________________________________________________\n",
      "flatten_1 (Flatten)             (None, 1024)         0           dropout_2[0][0]                  \n",
      "__________________________________________________________________________________________________\n",
      "dense_1 (Dense)                 (None, 512)          524800      flatten_1[0][0]                  \n",
      "__________________________________________________________________________________________________\n",
      "activation_9 (Activation)       (None, 512)          0           dense_1[0][0]                    \n",
      "__________________________________________________________________________________________________\n",
      "dropout_3 (Dropout)             (None, 512)          0           activation_9[0][0]               \n",
      "__________________________________________________________________________________________________\n",
      "dense_2 (Dense)                 (None, 3)            1539        dropout_3[0][0]                  \n",
      "__________________________________________________________________________________________________\n",
      "activation_10 (Activation)      (None, 3)            0           dense_2[0][0]                    \n",
      "==================================================================================================\n",
      "Total params: 780,419\n",
      "Trainable params: 780,419\n",
      "Non-trainable params: 0\n",
      "__________________________________________________________________________________________________\n"
     ]
    },
    {
     "name": "stdout",
     "output_type": "stream",
     "text": [
      "Train on 1154574 samples, validate on 495114 samples\n",
      "Epoch 1/500\n",
      "1154574/1154574 [==============================] - 310s 269us/step - loss: 0.5697 - acc: 0.8258 - val_loss: 0.3162 - val_acc: 0.9101\n",
      "Epoch 2/500\n",
      "1154574/1154574 [==============================] - 295s 256us/step - loss: 0.3331 - acc: 0.9026 - val_loss: 0.2481 - val_acc: 0.9316\n",
      "Epoch 3/500\n",
      "1154574/1154574 [==============================] - 295s 256us/step - loss: 0.2895 - acc: 0.9160 - val_loss: 0.2086 - val_acc: 0.9391\n",
      "Epoch 4/500\n",
      "1154574/1154574 [==============================] - 295s 256us/step - loss: 0.2693 - acc: 0.9224 - val_loss: 0.1952 - val_acc: 0.9459\n",
      "Epoch 5/500\n",
      "1154574/1154574 [==============================] - 295s 256us/step - loss: 0.2589 - acc: 0.9257 - val_loss: 0.1821 - val_acc: 0.9475\n",
      "Epoch 6/500\n",
      "1154574/1154574 [==============================] - 295s 255us/step - loss: 0.2524 - acc: 0.9282 - val_loss: 0.1880 - val_acc: 0.9469\n"
     ]
    },
    {
     "data": {
      "image/png": "[encoded data removed]",
      "text/plain": [
       "<Figure size 432x288 with 1 Axes>"
      ]
     },
     "metadata": {},
     "output_type": "display_data"
    },
    {
     "data": {
      "image/png": "[encoded data removed]",
      "text/plain": [
       "<Figure size 432x288 with 1 Axes>"
      ]
     },
     "metadata": {},
     "output_type": "display_data"
    }
   ],
   "source": [
    "reload(util_ml)\n",
    "\n",
    "weights = util_ml.generate_category_weights(place_images,category_label,label_suffix,stack_label,window,data_root,use_log=True,\n",
    "                                   columns=['image_name','Open Space','Non-Residential','Residential-Total'],resolution=resolution)\n",
    "print 'weights', weights\n",
    "loss = util_keras.weighted_categorical_crossentropy(weights)\n",
    "\n",
    "weights_label='WCC_weights.best'\n",
    "callbacks, history_path = util_keras.create_callbacks(data_root, model_id, weights_label=weights_label, patience=1)\n",
    "network=util_keras.build_model(util_keras.doubleres_block,input_shape=X_train.shape[-3:],output_nodes=len(categories_reduced))\n",
    "util_keras.compile_network(network, loss, LR=0.001)\n",
    "\n",
    "# train fast\n",
    "history_fast = network.fit(X_train, Y_t_cat, batch_size=batch_size, epochs=epochs, validation_data=(X_valid, Y_v_cat), shuffle=True,callbacks=callbacks)\n",
    "\n",
    "plt.plot(history_fast.history['val_acc'])\n",
    "plt.show()\n",
    "plt.plot(history_fast.history['val_loss'])\n",
    "plt.show()"
   ]
  },
  {
   "cell_type": "code",
   "execution_count": 22,
   "metadata": {},
   "outputs": [
    {
     "name": "stdout",
     "output_type": "stream",
     "text": [
      "__________________________________________________________________________________________________\n",
      "Layer (type)                    Output Shape         Param #     Connected to                     \n",
      "==================================================================================================\n",
      "input_2 (InputLayer)            (None, 7, 17, 17)    0                                            \n",
      "__________________________________________________________________________________________________\n",
      "conv2d_11 (Conv2D)              (None, 32, 17, 17)   5632        input_2[0][0]                    \n",
      "__________________________________________________________________________________________________\n",
      "conv2d_13 (Conv2D)              (None, 32, 17, 17)   2048        input_2[0][0]                    \n",
      "__________________________________________________________________________________________________\n",
      "activation_11 (Activation)      (None, 32, 17, 17)   0           conv2d_11[0][0]                  \n",
      "__________________________________________________________________________________________________\n",
      "activation_13 (Activation)      (None, 32, 17, 17)   0           conv2d_13[0][0]                  \n",
      "__________________________________________________________________________________________________\n",
      "conv2d_12 (Conv2D)              (None, 32, 17, 17)   25632       activation_11[0][0]              \n",
      "__________________________________________________________________________________________________\n",
      "conv2d_14 (Conv2D)              (None, 32, 17, 17)   9248        activation_13[0][0]              \n",
      "__________________________________________________________________________________________________\n",
      "activation_12 (Activation)      (None, 32, 17, 17)   0           conv2d_12[0][0]                  \n",
      "__________________________________________________________________________________________________\n",
      "activation_14 (Activation)      (None, 32, 17, 17)   0           conv2d_14[0][0]                  \n",
      "__________________________________________________________________________________________________\n",
      "conv2d_15 (Conv2D)              (None, 32, 17, 17)   256         input_2[0][0]                    \n",
      "__________________________________________________________________________________________________\n",
      "lambda_7 (Lambda)               (None, 32, 17, 17)   0           activation_12[0][0]              \n",
      "__________________________________________________________________________________________________\n",
      "lambda_8 (Lambda)               (None, 32, 17, 17)   0           activation_14[0][0]              \n",
      "__________________________________________________________________________________________________\n",
      "lambda_9 (Lambda)               (None, 32, 17, 17)   0           conv2d_15[0][0]                  \n",
      "__________________________________________________________________________________________________\n",
      "add_3 (Add)                     (None, 32, 17, 17)   0           lambda_7[0][0]                   \n",
      "                                                                 lambda_8[0][0]                   \n",
      "                                                                 lambda_9[0][0]                   \n",
      "__________________________________________________________________________________________________\n",
      "max_pooling2d_3 (MaxPooling2D)  (None, 32, 8, 8)     0           add_3[0][0]                      \n",
      "__________________________________________________________________________________________________\n",
      "dropout_4 (Dropout)             (None, 32, 8, 8)     0           max_pooling2d_3[0][0]            \n",
      "__________________________________________________________________________________________________\n",
      "conv2d_16 (Conv2D)              (None, 64, 8, 8)     51264       dropout_4[0][0]                  \n",
      "__________________________________________________________________________________________________\n",
      "conv2d_18 (Conv2D)              (None, 64, 8, 8)     18496       dropout_4[0][0]                  \n",
      "__________________________________________________________________________________________________\n",
      "activation_15 (Activation)      (None, 64, 8, 8)     0           conv2d_16[0][0]                  \n",
      "__________________________________________________________________________________________________\n",
      "activation_17 (Activation)      (None, 64, 8, 8)     0           conv2d_18[0][0]                  \n",
      "__________________________________________________________________________________________________\n",
      "conv2d_17 (Conv2D)              (None, 64, 8, 8)     102464      activation_15[0][0]              \n",
      "__________________________________________________________________________________________________\n",
      "conv2d_19 (Conv2D)              (None, 64, 8, 8)     36928       activation_17[0][0]              \n",
      "__________________________________________________________________________________________________\n",
      "activation_16 (Activation)      (None, 64, 8, 8)     0           conv2d_17[0][0]                  \n",
      "__________________________________________________________________________________________________\n",
      "activation_18 (Activation)      (None, 64, 8, 8)     0           conv2d_19[0][0]                  \n",
      "__________________________________________________________________________________________________\n",
      "conv2d_20 (Conv2D)              (None, 64, 8, 8)     2112        dropout_4[0][0]                  \n",
      "__________________________________________________________________________________________________\n",
      "lambda_10 (Lambda)              (None, 64, 8, 8)     0           activation_16[0][0]              \n",
      "__________________________________________________________________________________________________\n",
      "lambda_11 (Lambda)              (None, 64, 8, 8)     0           activation_18[0][0]              \n",
      "__________________________________________________________________________________________________\n",
      "lambda_12 (Lambda)              (None, 64, 8, 8)     0           conv2d_20[0][0]                  \n",
      "__________________________________________________________________________________________________\n",
      "add_4 (Add)                     (None, 64, 8, 8)     0           lambda_10[0][0]                  \n",
      "                                                                 lambda_11[0][0]                  \n",
      "                                                                 lambda_12[0][0]                  \n",
      "__________________________________________________________________________________________________\n",
      "max_pooling2d_4 (MaxPooling2D)  (None, 64, 4, 4)     0           add_4[0][0]                      \n",
      "__________________________________________________________________________________________________\n",
      "dropout_5 (Dropout)             (None, 64, 4, 4)     0           max_pooling2d_4[0][0]            \n",
      "__________________________________________________________________________________________________\n",
      "flatten_2 (Flatten)             (None, 1024)         0           dropout_5[0][0]                  \n",
      "__________________________________________________________________________________________________\n",
      "dense_3 (Dense)                 (None, 512)          524800      flatten_2[0][0]                  \n",
      "__________________________________________________________________________________________________\n",
      "activation_19 (Activation)      (None, 512)          0           dense_3[0][0]                    \n",
      "__________________________________________________________________________________________________\n",
      "dropout_6 (Dropout)             (None, 512)          0           activation_19[0][0]              \n",
      "__________________________________________________________________________________________________\n",
      "dense_4 (Dense)                 (None, 3)            1539        dropout_6[0][0]                  \n",
      "__________________________________________________________________________________________________\n",
      "activation_20 (Activation)      (None, 3)            0           dense_4[0][0]                    \n",
      "==================================================================================================\n",
      "Total params: 780,419\n",
      "Trainable params: 780,419\n",
      "Non-trainable params: 0\n",
      "__________________________________________________________________________________________________\n",
      "Train on 1154574 samples, validate on 495114 samples\n",
      "Epoch 1/500\n"
     ]
    },
    {
     "name": "stdout",
     "output_type": "stream",
     "text": [
      "1154574/1154574 [==============================] - 298s 258us/step - loss: 0.1777 - acc: 0.9478 - val_loss: 0.1341 - val_acc: 0.9606\n",
      "Epoch 2/500\n",
      "1154574/1154574 [==============================] - 296s 257us/step - loss: 0.1579 - acc: 0.9533 - val_loss: 0.1276 - val_acc: 0.9625\n",
      "Epoch 3/500\n",
      "1154574/1154574 [==============================] - 295s 256us/step - loss: 0.1487 - acc: 0.9557 - val_loss: 0.1226 - val_acc: 0.9635\n",
      "Epoch 4/500\n",
      "1154574/1154574 [==============================] - 293s 254us/step - loss: 0.1438 - acc: 0.9572 - val_loss: 0.1200 - val_acc: 0.9642\n",
      "Epoch 5/500\n",
      "1154574/1154574 [==============================] - 293s 254us/step - loss: 0.1382 - acc: 0.9588 - val_loss: 0.1180 - val_acc: 0.9650\n",
      "Epoch 6/500\n",
      "1154574/1154574 [==============================] - 293s 254us/step - loss: 0.1354 - acc: 0.9596 - val_loss: 0.1144 - val_acc: 0.9656\n",
      "Epoch 7/500\n",
      "1154574/1154574 [==============================] - 293s 254us/step - loss: 0.1318 - acc: 0.9608 - val_loss: 0.1114 - val_acc: 0.9666\n",
      "Epoch 8/500\n",
      "1154574/1154574 [==============================] - 293s 254us/step - loss: 0.1294 - acc: 0.9614 - val_loss: 0.1112 - val_acc: 0.9669\n",
      "Epoch 9/500\n",
      "1154574/1154574 [==============================] - 293s 254us/step - loss: 0.1265 - acc: 0.9623 - val_loss: 0.1089 - val_acc: 0.9670\n",
      "Epoch 10/500\n",
      "1154574/1154574 [==============================] - 293s 254us/step - loss: 0.1235 - acc: 0.9631 - val_loss: 0.1080 - val_acc: 0.9678\n",
      "Epoch 11/500\n",
      "1154574/1154574 [==============================] - 292s 253us/step - loss: 0.1223 - acc: 0.9635 - val_loss: 0.1069 - val_acc: 0.9684\n",
      "Epoch 12/500\n",
      "1154574/1154574 [==============================] - 291s 252us/step - loss: 0.1196 - acc: 0.9644 - val_loss: 0.1059 - val_acc: 0.9685\n",
      "Epoch 13/500\n",
      "1154574/1154574 [==============================] - 290s 251us/step - loss: 0.1186 - acc: 0.9644 - val_loss: 0.1057 - val_acc: 0.9686\n",
      "Epoch 14/500\n",
      "1154574/1154574 [==============================] - 290s 251us/step - loss: 0.1169 - acc: 0.9652 - val_loss: 0.1040 - val_acc: 0.9691\n",
      "Epoch 15/500\n",
      "1154574/1154574 [==============================] - 291s 252us/step - loss: 0.1148 - acc: 0.9659 - val_loss: 0.1044 - val_acc: 0.9696\n",
      "Epoch 16/500\n",
      "1154574/1154574 [==============================] - 290s 251us/step - loss: 0.1133 - acc: 0.9661 - val_loss: 0.1022 - val_acc: 0.9698\n",
      "Epoch 17/500\n",
      "1154574/1154574 [==============================] - 290s 251us/step - loss: 0.1123 - acc: 0.9665 - val_loss: 0.1013 - val_acc: 0.9698\n",
      "Epoch 18/500\n",
      "1154574/1154574 [==============================] - 290s 251us/step - loss: 0.1105 - acc: 0.9670 - val_loss: 0.1006 - val_acc: 0.9703\n",
      "Epoch 19/500\n",
      "1154574/1154574 [==============================] - 290s 251us/step - loss: 0.1092 - acc: 0.9675 - val_loss: 0.1006 - val_acc: 0.9701\n",
      "Epoch 20/500\n",
      "1154574/1154574 [==============================] - 290s 251us/step - loss: 0.1084 - acc: 0.9677 - val_loss: 0.1003 - val_acc: 0.9702\n",
      "Epoch 21/500\n",
      "1154574/1154574 [==============================] - 290s 251us/step - loss: 0.1069 - acc: 0.9681 - val_loss: 0.0991 - val_acc: 0.9708\n",
      "Epoch 22/500\n",
      "1154574/1154574 [==============================] - 290s 251us/step - loss: 0.1063 - acc: 0.9685 - val_loss: 0.0989 - val_acc: 0.9706\n",
      "Epoch 23/500\n",
      "1154574/1154574 [==============================] - 290s 251us/step - loss: 0.1043 - acc: 0.9691 - val_loss: 0.0978 - val_acc: 0.9711\n",
      "Epoch 24/500\n",
      "1154574/1154574 [==============================] - 289s 251us/step - loss: 0.1037 - acc: 0.9690 - val_loss: 0.0976 - val_acc: 0.9708\n",
      "Epoch 25/500\n",
      "1154574/1154574 [==============================] - 289s 250us/step - loss: 0.1027 - acc: 0.9695 - val_loss: 0.0979 - val_acc: 0.9714\n",
      "Epoch 26/500\n",
      "1154574/1154574 [==============================] - 289s 250us/step - loss: 0.1017 - acc: 0.9696 - val_loss: 0.0962 - val_acc: 0.9716\n",
      "Epoch 27/500\n",
      "1154574/1154574 [==============================] - 291s 252us/step - loss: 0.1007 - acc: 0.9701 - val_loss: 0.0959 - val_acc: 0.9717\n",
      "Epoch 28/500\n",
      "1154574/1154574 [==============================] - 289s 250us/step - loss: 0.1000 - acc: 0.9702 - val_loss: 0.0954 - val_acc: 0.9714\n",
      "Epoch 29/500\n",
      "1154574/1154574 [==============================] - 289s 250us/step - loss: 0.0993 - acc: 0.9703 - val_loss: 0.0944 - val_acc: 0.9721\n",
      "Epoch 30/500\n",
      "1154574/1154574 [==============================] - 289s 250us/step - loss: 0.0984 - acc: 0.9709 - val_loss: 0.0959 - val_acc: 0.9712\n",
      "Epoch 31/500\n",
      "1154574/1154574 [==============================] - 289s 250us/step - loss: 0.0982 - acc: 0.9707 - val_loss: 0.0942 - val_acc: 0.9719\n",
      "Epoch 32/500\n",
      "1154574/1154574 [==============================] - 289s 250us/step - loss: 0.0970 - acc: 0.9713 - val_loss: 0.0934 - val_acc: 0.9727\n",
      "Epoch 33/500\n",
      "1154574/1154574 [==============================] - 290s 251us/step - loss: 0.0971 - acc: 0.9712 - val_loss: 0.0944 - val_acc: 0.9727\n",
      "Epoch 34/500\n",
      "1154574/1154574 [==============================] - 289s 251us/step - loss: 0.0956 - acc: 0.9715 - val_loss: 0.0944 - val_acc: 0.9726\n",
      "Epoch 35/500\n",
      "1154574/1154574 [==============================] - 289s 251us/step - loss: 0.0949 - acc: 0.9718 - val_loss: 0.0928 - val_acc: 0.9726\n",
      "Epoch 36/500\n",
      "1154574/1154574 [==============================] - 289s 251us/step - loss: 0.0941 - acc: 0.9722 - val_loss: 0.0922 - val_acc: 0.9728\n",
      "Epoch 37/500\n",
      "1154574/1154574 [==============================] - 289s 250us/step - loss: 0.0941 - acc: 0.9720 - val_loss: 0.0919 - val_acc: 0.9733\n",
      "Epoch 38/500\n",
      "1154574/1154574 [==============================] - 289s 251us/step - loss: 0.0927 - acc: 0.9725 - val_loss: 0.0911 - val_acc: 0.9731\n",
      "Epoch 39/500\n",
      "1154574/1154574 [==============================] - 289s 251us/step - loss: 0.0931 - acc: 0.9725 - val_loss: 0.0926 - val_acc: 0.9733\n",
      "Epoch 40/500\n",
      "1154574/1154574 [==============================] - 289s 250us/step - loss: 0.0922 - acc: 0.9728 - val_loss: 0.0922 - val_acc: 0.9728\n",
      "Epoch 41/500\n",
      "1154574/1154574 [==============================] - 289s 250us/step - loss: 0.0912 - acc: 0.9728 - val_loss: 0.0923 - val_acc: 0.9728\n",
      "Epoch 42/500\n",
      "1154574/1154574 [==============================] - 289s 250us/step - loss: 0.0912 - acc: 0.9730 - val_loss: 0.0906 - val_acc: 0.9733\n",
      "Epoch 43/500\n",
      "1154574/1154574 [==============================] - 289s 250us/step - loss: 0.0902 - acc: 0.9732 - val_loss: 0.0909 - val_acc: 0.9735\n",
      "Epoch 44/500\n",
      "1154574/1154574 [==============================] - 289s 251us/step - loss: 0.0897 - acc: 0.9734 - val_loss: 0.0916 - val_acc: 0.9734\n",
      "Epoch 45/500\n",
      "1154574/1154574 [==============================] - 289s 250us/step - loss: 0.0897 - acc: 0.9735 - val_loss: 0.0919 - val_acc: 0.9731\n",
      "Epoch 46/500\n",
      "1154574/1154574 [==============================] - 290s 251us/step - loss: 0.0891 - acc: 0.9737 - val_loss: 0.0908 - val_acc: 0.9738\n"
     ]
    },
    {
     "data": {
      "image/png": "[encoded data removed]",
      "text/plain": [
       "<Figure size 432x288 with 1 Axes>"
      ]
     },
     "metadata": {},
     "output_type": "display_data"
    },
    {
     "data": {
      "image/png": "[encoded data removed]",
      "text/plain": [
       "<Figure size 432x288 with 1 Axes>"
      ]
     },
     "metadata": {},
     "output_type": "display_data"
    }
   ],
   "source": [
    "# rebuild network\n",
    "network=util_keras.build_model(util_keras.doubleres_block,input_shape=X_train.shape[-3:],output_nodes=len(categories_reduced))\n",
    "# load weights from fast learning\n",
    "filepath = data_root+'models/'+model_id+'_'+weights_label+'.hdf5'\n",
    "network.load_weights(filepath)\n",
    "weights_label='WCC_weights_slow.best'\n",
    "callbacks, history_path = util_keras.create_callbacks(data_root, model_id, weights_label=weights_label, patience=3)\n",
    "util_keras.compile_network(network, loss, LR=0.0001)\n",
    "\n",
    "# train slow\n",
    "history_slow = network.fit(X_train, Y_t_cat, batch_size=batch_size, epochs=epochs, validation_data=(X_valid, Y_v_cat),shuffle=True,callbacks=callbacks)\n",
    "\n",
    "plt.plot(history_slow.history['val_acc'])\n",
    "plt.show()\n",
    "plt.plot(history_slow.history['val_loss'])\n",
    "plt.show()"
   ]
  },
  {
   "cell_type": "code",
   "execution_count": 25,
   "metadata": {},
   "outputs": [
    {
     "name": "stdout",
     "output_type": "stream",
     "text": [
      "evaluate training\n",
      "0 370788\n",
      "1 293856\n",
      "2 489930\n",
      "[[366774   2327   1687]\n",
      " [  1177 292314    365]\n",
      " [  2673    858 486399]]\n",
      "1154574 1145487 0.9921295646706058\n",
      "evaluate validation\n",
      "0 157830\n",
      "1 126792\n",
      "2 210492\n",
      "[[152583   2972   2275]\n",
      " [  2408 123324   1060]\n",
      " [  2974   1278 206240]]\n",
      "495114 482147 0.9738100720238168\n"
     ]
    }
   ],
   "source": [
    "print \"evaluate training\"\n",
    "Yhat_t_prob = network.predict(X_train)\n",
    "Yhat_t = Yhat_t_prob.argmax(axis=-1)\n",
    "train_confusion = util_ml.calc_confusion(Yhat_t,Y_t,categories_reduced)\n",
    "train_recalls, train_precisions, train_accuracy = util_ml.calc_confusion_details(train_confusion)\n",
    "\n",
    "\n",
    "# Calculate f-score\n",
    "beta = 2\n",
    "train_f_score = (beta**2 + 1) * train_precisions * train_recalls / ( (beta**2 * train_precisions) + train_recalls )\n",
    "train_f_score_open = train_f_score[0] \n",
    "train_f_score_nonres = train_f_score[1]  \n",
    "train_f_score_res = train_f_score[2]  \n",
    "train_f_score_roads = None#train_f_score[3]  \n",
    "train_f_score_average = np.mean(train_f_score)\n",
    "\n",
    "\n",
    "print \"evaluate validation\"\n",
    "Yhat_v_prob = network.predict(X_valid)\n",
    "Yhat_v = Yhat_v_prob.argmax(axis=-1)\n",
    "valid_confusion = util_ml.calc_confusion(Yhat_v,Y_v,categories_reduced)\n",
    "valid_recalls, valid_precisions, valid_accuracy = util_ml.calc_confusion_details(valid_confusion)\n",
    "\n",
    "# Calculate f-score\n",
    "valid_f_score = (beta**2 + 1) * valid_precisions * valid_recalls / ( (beta**2 * valid_precisions) + valid_recalls )\n",
    "valid_f_score_open = valid_f_score[0] \n",
    "valid_f_score_nonres = valid_f_score[1] \n",
    "valid_f_score_res = valid_f_score[2] \n",
    "valid_f_score_roads = None# valid_f_score[3] \n",
    "valid_f_score_average = np.mean(valid_f_score)\n",
    "\n",
    "\n",
    "# expanding lists to match expected model_record stuff\n",
    "train_recalls_expanded = [train_recalls[0],train_recalls[1],train_recalls[2],None]\n",
    "valid_recalls_expanded = [valid_recalls[0],valid_recalls[1],valid_recalls[2],None]\n",
    "train_precisions_expanded = [train_precisions[0],train_precisions[1],train_precisions[2],None]\n",
    "valid_precisions_expanded = [valid_precisions[0],valid_precisions[1],valid_precisions[2],None]"
   ]
  },
  {
   "cell_type": "code",
   "execution_count": 26,
   "metadata": {},
   "outputs": [
    {
     "name": "stdout",
     "output_type": "stream",
     "text": [
      "/data/phase_iii/models/3cat_Hyd_P-U_scaler.pkl\n",
      "/data/phase_iii/models/3cat_Hyd_P-UDLv3.hd5\n"
     ]
    }
   ],
   "source": [
    "scaler_filename = data_root+'models/'+model_id+'_scaler.pkl'\n",
    "#model_filename  = data_root+'models/'+model_id+'_SVM.pkl'\n",
    "network_filename = data_root+'models/'+model_id+'DLv3.hd5'\n",
    "\n",
    "if os.path.exists(scaler_filename):\n",
    "    print 'Aborting all pickle operations: file already exists at specified path ('+scaler_filename+')'\n",
    "#elif os.path.exists(model_filename):\n",
    "#    print 'Aborting all pickle operations: file already exists at specified path ('+model_filename+')'\n",
    "elif os.path.exists(network_filename):\n",
    "    print 'Aborting all pickle operations: file already exists at specified path ('+network_filename+')'\n",
    "else:\n",
    "    print scaler_filename\n",
    "#    print model_filename\n",
    "    print network_filename\n",
    "    pickle.dump(scaler, open(scaler_filename, 'wb'))\n",
    "#    pickle.dump(model, open(model_filename, 'wb'))\n",
    "    network.save(network_filename)\n",
    "    # tracking only occurs if all saves are successful\n",
    "    util_workflow.record_model_creation(\n",
    "        model_id, notes, place_images, label_suffix, resolution, stack_label, feature_count, window, cats_map, balancing, \n",
    "        network.get_config(), epochs, batch_size,\n",
    "        train_confusion, train_recalls_expanded, train_precisions_expanded, train_accuracy,\n",
    "        train_f_score_open, train_f_score_nonres, train_f_score_res, train_f_score_roads, train_f_score_average,\n",
    "        valid_confusion, valid_recalls_expanded, valid_precisions_expanded, valid_accuracy,\n",
    "        valid_f_score_open, valid_f_score_nonres, valid_f_score_res, valid_f_score_roads, valid_f_score_average,)"
   ]
  }
 ],
 "metadata": {
  "kernelspec": {
   "display_name": "Python 2",
   "language": "python",
   "name": "python2"
  },
  "language_info": {
   "codemirror_mode": {
    "name": "ipython",
    "version": 2
   },
   "file_extension": ".py",
   "mimetype": "text/x-python",
   "name": "python",
   "nbconvert_exporter": "python",
   "pygments_lexer": "ipython2",
   "version": "2.7.13"
  }
 },
 "nbformat": 4,
 "nbformat_minor": 2
}
