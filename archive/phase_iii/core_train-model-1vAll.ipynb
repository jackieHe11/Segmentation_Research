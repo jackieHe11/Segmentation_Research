{
 "cells": [
  {
   "cell_type": "markdown",
   "metadata": {},
   "source": [
    "# Core: Train Model One-versus-All\n",
    "Train a One-vs-All model, primarily intended for roads.\n",
    "  \n",
    "Date: 2018-12-06   \n",
    "Author: Peter Kerins"
   ]
  },
  {
   "cell_type": "markdown",
   "metadata": {},
   "source": [
    "### Import statements\n",
    "(may be over-inclusive)"
   ]
  },
  {
   "cell_type": "code",
   "execution_count": 1,
   "metadata": {},
   "outputs": [
    {
     "name": "stderr",
     "output_type": "stream",
     "text": [
      "Using TensorFlow backend.\n"
     ]
    },
    {
     "name": "stdout",
     "output_type": "stream",
     "text": [
      "[{u'name': u'Illinois', u'id': 85688697, u'placetype': u'region', u'bbox': [-91.512974, 36.970298, -87.019935, 42.508302], u'path': u'continent:north-america_country:united-states_region:illinois', u'slug': u'north-america_united-states_illinois'}]\n",
      "['', '/usr/lib/python2.7', '/usr/lib/python2.7/plat-x86_64-linux-gnu', '/usr/lib/python2.7/lib-tk', '/usr/lib/python2.7/lib-old', '/usr/lib/python2.7/lib-dynload', '/home/Taufiq.Rashid/.local/lib/python2.7/site-packages', '/usr/local/lib/python2.7/dist-packages', '/usr/lib/python2.7/dist-packages', '/usr/lib/python2.7/dist-packages/PILcompat', '/usr/lib/python2.7/dist-packages/gtk-2.0', '/usr/local/lib/python2.7/dist-packages/IPython/extensions', '/home/Taufiq.Rashid/.ipython', '/home/Peter.Kerins/UrbanLandUse/utils']\n"
     ]
    }
   ],
   "source": [
    "# typical, comprehensive imports\n",
    "import warnings\n",
    "warnings.filterwarnings('ignore')\n",
    "#\n",
    "import os\n",
    "import sys\n",
    "import json\n",
    "import itertools\n",
    "import pickle\n",
    "from pprint import pprint\n",
    "#\n",
    "import numpy as np\n",
    "import shapely\n",
    "import cartopy\n",
    "import geojson\n",
    "import fiona\n",
    "import gdal\n",
    "import h5py\n",
    "get_ipython().magic(u'matplotlib inline')\n",
    "import matplotlib.pyplot as plt\n",
    "import sklearn\n",
    "from sklearn.preprocessing import StandardScaler \n",
    "import ogr, gdal\n",
    "from keras.models import load_model\n",
    "import math\n",
    "from keras.utils import to_categorical\n",
    "from keras.models import load_model\n",
    "from keras import models\n",
    "from keras import layers\n",
    "from keras.layers import Dropout\n",
    "from keras.utils import to_categorical\n",
    "from skimage import measure\n",
    "from skimage import filters\n",
    "from scipy import stats\n",
    "\n",
    "import tensorflow as tf\n",
    "\n",
    "import keras\n",
    "import keras.backend as K\n",
    "from keras.models import Model\n",
    "from keras.layers import Dense, Dropout, Activation, Flatten\n",
    "from keras.layers import Conv2D, MaxPooling2D\n",
    "from keras.layers import Input, Add, Lambda\n",
    "from keras.callbacks import EarlyStopping, ModelCheckpoint, History\n",
    "\n",
    "import collections\n",
    "\n",
    "import descarteslabs as dl\n",
    "print dl.places.find('illinois') ## TEST\n",
    "\n",
    "ULU_REPO = os.environ[\"ULU_REPO\"]\n",
    "sys.path.append(ULU_REPO+'/utils')\n",
    "print sys.path\n",
    "\n",
    "import util_descartes\n",
    "import util_ml\n",
    "import util_rasters\n",
    "import util_vectors\n",
    "import util_workflow\n",
    "import util_keras\n"
   ]
  },
  {
   "cell_type": "markdown",
   "metadata": {},
   "source": [
    "### Set key variables"
   ]
  },
  {
   "cell_type": "code",
   "execution_count": 2,
   "metadata": {},
   "outputs": [],
   "source": [
    "data_root='/data/phase_iii/'\n",
    "\n",
    "bands=['blue','green','red','nir','swir1','swir2','alpha']; suffix='BGRNS1S2A'  # S2, Lx\n",
    "resolution=5  # Lx:15 S2:10\n",
    "\n",
    "ndvi_bands = ['raw'];\n",
    "\n",
    "tile_resolution = resolution\n",
    "tile_size = 256\n",
    "tile_pad = 16\n",
    "\n",
    "label_suffix = 'aue-roads'\n",
    "\n",
    "# NYU AoUE land use/land cover categories\n",
    "category_label = {0:'Open Space',1:'Non-Residential',\\\n",
    "                   2:'Residential Atomistic',3:'Residential Informal Subdivision',\\\n",
    "                   4:'Residential Formal Subdivision',5:'Residential Housing Project',\\\n",
    "                   6:'Roads',7:'Study Area',8:'Labeled Study Area',254:'No Data',255:'No Label'}"
   ]
  },
  {
   "cell_type": "markdown",
   "metadata": {},
   "source": [
    "### Specify training data parameters"
   ]
  },
  {
   "cell_type": "code",
   "execution_count": 3,
   "metadata": {},
   "outputs": [],
   "source": [
    "window = 17    # width of square window\n",
    "\n",
    "cats_map = {}\n",
    "cats_map[0] = 0\n",
    "cats_map[1] = 1\n",
    "cats_map[2] = 4\n",
    "cats_map[3] = 4\n",
    "cats_map[4] = 4\n",
    "cats_map[5] = 4\n",
    "cats_map[6] = 6\n",
    "\n",
    "categories = [0,1,4,6]\n",
    "\n",
    "bands_vir=bands[:-1]\n",
    "bands_sar=None#s1_bands\n",
    "bands_ndvi=ndvi_bands\n",
    "bands_ndbi=None\n",
    "bands_osm=None\n",
    "\n",
    "haze_removal = False\n",
    "\n",
    "epochs = 100\n",
    "batch_size = 128\n",
    "balancing = None\n",
    "model_id = 'Roads_Sin_OPQRSTU'\n",
    "notes = '1vAll models at 5m res, bilinear resampling, roads heavy training data,green images from 2017 for Singrauli'"
   ]
  },
  {
   "cell_type": "code",
   "execution_count": 4,
   "metadata": {},
   "outputs": [
    {
     "name": "stdout",
     "output_type": "stream",
     "text": [
      "vir+ndvi 7\n"
     ]
    }
   ],
   "source": [
    "stack_label, feature_count = util_workflow.build_stack_label(\n",
    "        bands_vir=bands_vir,\n",
    "        bands_sar=bands_sar,\n",
    "        bands_ndvi=bands_ndvi,\n",
    "        bands_ndbi=bands_ndbi,\n",
    "        bands_osm=bands_osm,)\n",
    "print stack_label, feature_count"
   ]
  },
  {
   "cell_type": "markdown",
   "metadata": {},
   "source": [
    "### Build training data \"superset\"\n",
    "The \"superset\" of training data used to actually train a model can be a combination of any number of stored training data sets built from particular input stacks. These constituent sets can come from one or many cities. The only requirement is that they are all consistent in construction, ie are built from the same input stack."
   ]
  },
  {
   "cell_type": "code",
   "execution_count": 5,
   "metadata": {
    "scrolled": true
   },
   "outputs": [
    {
     "name": "stdout",
     "output_type": "stream",
     "text": [
      "calculate total size of training and validation supersets\n",
      "/data/phase_iii/singrauli/singrauli_train_aue-roads_5m_vir+ndvi_17w_O.pkl\n",
      "/data/phase_iii/singrauli/singrauli_valid_aue-roads_5m_vir+ndvi_17w_O.pkl\n",
      "(133073, 2023) (133073,) (57032, 2023) (57032,)\n",
      "/data/phase_iii/singrauli/singrauli_train_aue-roads_5m_vir+ndvi_17w_P.pkl\n",
      "/data/phase_iii/singrauli/singrauli_valid_aue-roads_5m_vir+ndvi_17w_P.pkl\n",
      "(133073, 2023) (133073,) (57032, 2023) (57032,)\n",
      "/data/phase_iii/singrauli/singrauli_train_aue-roads_5m_vir+ndvi_17w_Q.pkl\n",
      "/data/phase_iii/singrauli/singrauli_valid_aue-roads_5m_vir+ndvi_17w_Q.pkl\n",
      "(133073, 2023) (133073,) (57032, 2023) (57032,)\n",
      "/data/phase_iii/singrauli/singrauli_train_aue-roads_5m_vir+ndvi_17w_R.pkl\n",
      "/data/phase_iii/singrauli/singrauli_valid_aue-roads_5m_vir+ndvi_17w_R.pkl\n",
      "(133073, 2023) (133073,) (57032, 2023) (57032,)\n",
      "/data/phase_iii/singrauli/singrauli_train_aue-roads_5m_vir+ndvi_17w_S.pkl\n",
      "/data/phase_iii/singrauli/singrauli_valid_aue-roads_5m_vir+ndvi_17w_S.pkl\n",
      "(133073, 2023) (133073,) (57032, 2023) (57032,)\n",
      "/data/phase_iii/singrauli/singrauli_train_aue-roads_5m_vir+ndvi_17w_T.pkl\n",
      "/data/phase_iii/singrauli/singrauli_valid_aue-roads_5m_vir+ndvi_17w_T.pkl\n",
      "(133073, 2023) (133073,) (57032, 2023) (57032,)\n",
      "/data/phase_iii/singrauli/singrauli_train_aue-roads_5m_vir+ndvi_17w_U.pkl\n",
      "/data/phase_iii/singrauli/singrauli_valid_aue-roads_5m_vir+ndvi_17w_U.pkl\n",
      "(133073, 2023) (133073,) (57032, 2023) (57032,)\n",
      "931511 399224\n",
      "construct np arrays for supersets\n",
      "populate superset np arrays\n",
      "/data/phase_iii/singrauli/singrauli_train_aue-roads_5m_vir+ndvi_17w_O.pkl\n",
      "/data/phase_iii/singrauli/singrauli_valid_aue-roads_5m_vir+ndvi_17w_O.pkl\n",
      "(133073, 2023) (133073,) (57032, 2023) (57032,)\n",
      "/data/phase_iii/singrauli/singrauli_train_aue-roads_5m_vir+ndvi_17w_P.pkl\n",
      "/data/phase_iii/singrauli/singrauli_valid_aue-roads_5m_vir+ndvi_17w_P.pkl\n",
      "(133073, 2023) (133073,) (57032, 2023) (57032,)\n",
      "/data/phase_iii/singrauli/singrauli_train_aue-roads_5m_vir+ndvi_17w_Q.pkl\n",
      "/data/phase_iii/singrauli/singrauli_valid_aue-roads_5m_vir+ndvi_17w_Q.pkl\n",
      "(133073, 2023) (133073,) (57032, 2023) (57032,)\n",
      "/data/phase_iii/singrauli/singrauli_train_aue-roads_5m_vir+ndvi_17w_R.pkl\n",
      "/data/phase_iii/singrauli/singrauli_valid_aue-roads_5m_vir+ndvi_17w_R.pkl\n",
      "(133073, 2023) (133073,) (57032, 2023) (57032,)\n",
      "/data/phase_iii/singrauli/singrauli_train_aue-roads_5m_vir+ndvi_17w_S.pkl\n",
      "/data/phase_iii/singrauli/singrauli_valid_aue-roads_5m_vir+ndvi_17w_S.pkl\n",
      "(133073, 2023) (133073,) (57032, 2023) (57032,)\n",
      "/data/phase_iii/singrauli/singrauli_train_aue-roads_5m_vir+ndvi_17w_T.pkl\n",
      "/data/phase_iii/singrauli/singrauli_valid_aue-roads_5m_vir+ndvi_17w_T.pkl\n",
      "(133073, 2023) (133073,) (57032, 2023) (57032,)\n",
      "/data/phase_iii/singrauli/singrauli_train_aue-roads_5m_vir+ndvi_17w_U.pkl\n",
      "/data/phase_iii/singrauli/singrauli_valid_aue-roads_5m_vir+ndvi_17w_U.pkl\n",
      "(133073, 2023) (133073,) (57032, 2023) (57032,)\n",
      "(931511, 2023) (931511,)\n"
     ]
    }
   ],
   "source": [
    "reload(util_workflow)\n",
    "\n",
    "place_images = {}\n",
    "place_images['singrauli'] = ['O','P','Q','R','S','T','U']\n",
    "\n",
    "X_train_raw, Y_train_raw, X_valid_raw, Y_valid_raw = util_workflow.load_datasets(place_images, data_root, label_suffix, stack_label, window, resolution=resolution)"
   ]
  },
  {
   "cell_type": "markdown",
   "metadata": {},
   "source": [
    "### Prepare stored training data for machine learning"
   ]
  },
  {
   "cell_type": "markdown",
   "metadata": {},
   "source": [
    "Scale training data"
   ]
  },
  {
   "cell_type": "code",
   "execution_count": 6,
   "metadata": {},
   "outputs": [
    {
     "name": "stdout",
     "output_type": "stream",
     "text": [
      "(931511, 2023) (399224, 2023)\n",
      "(931511, 2023)\n"
     ]
    }
   ],
   "source": [
    "X_train_raw_scaled, X_valid_raw_scaled, scaler = util_ml.scale_learning_data(X_train_raw, X_valid_raw)\n",
    "print X_train_raw_scaled.shape"
   ]
  },
  {
   "cell_type": "code",
   "execution_count": 7,
   "metadata": {},
   "outputs": [],
   "source": [
    "del X_train_raw, X_valid_raw"
   ]
  },
  {
   "cell_type": "code",
   "execution_count": 8,
   "metadata": {},
   "outputs": [],
   "source": [
    "X_train = X_train_raw_scaled.reshape((X_train_raw_scaled.shape[0],feature_count,window,window))\n",
    "X_valid = X_valid_raw_scaled.reshape((X_valid_raw_scaled.shape[0],feature_count,window,window))"
   ]
  },
  {
   "cell_type": "code",
   "execution_count": 9,
   "metadata": {},
   "outputs": [],
   "source": [
    "del X_train_raw_scaled, X_valid_raw_scaled"
   ]
  },
  {
   "cell_type": "markdown",
   "metadata": {},
   "source": [
    "Remap category labels to reduced typology  \n",
    "(Theoretically could leave this for the subsequent binary remapping)"
   ]
  },
  {
   "cell_type": "code",
   "execution_count": 10,
   "metadata": {},
   "outputs": [],
   "source": [
    "Y_train = Y_train_raw.copy()\n",
    "Y_valid = Y_valid_raw.copy()\n",
    "\n",
    "for k, v in cats_map.items():\n",
    "    Y_train[Y_train_raw==k] = v\n",
    "    Y_valid[Y_valid_raw==k] = v"
   ]
  },
  {
   "cell_type": "markdown",
   "metadata": {},
   "source": [
    "### Train and score a 1vAll model for each LULC category"
   ]
  },
  {
   "cell_type": "code",
   "execution_count": 11,
   "metadata": {},
   "outputs": [
    {
     "name": "stdout",
     "output_type": "stream",
     "text": [
      "('DEFAULT:', 'channels_last')\n",
      "('UPDATED:', 'channels_first')\n"
     ]
    }
   ],
   "source": [
    "print(\"DEFAULT:\",K.image_data_format())\n",
    "K.set_image_data_format('channels_first')\n",
    "print(\"UPDATED:\",K.image_data_format())"
   ]
  },
  {
   "cell_type": "markdown",
   "metadata": {},
   "source": [
    "Create network, train fast"
   ]
  },
  {
   "cell_type": "code",
   "execution_count": 12,
   "metadata": {
    "scrolled": true
   },
   "outputs": [
    {
     "name": "stdout",
     "output_type": "stream",
     "text": [
      "min: 168714 ; max: 762797\n",
      "(590499, 7, 17, 17)\n",
      "421785 168714\n",
      "(590499,)\n",
      "[0 0 1 0 0 0 0 1 0 1 0 1 0 0 1 0 1 0 0 0]\n",
      "        0       1\n",
      "0  421785  168714\n",
      "weights [1.0, 2.5]\n",
      "__________________________________________________________________________________________________\n",
      "Layer (type)                    Output Shape         Param #     Connected to                     \n",
      "==================================================================================================\n",
      "input_1 (InputLayer)            (None, 7, 17, 17)    0                                            \n",
      "__________________________________________________________________________________________________\n",
      "conv2d_1 (Conv2D)               (None, 32, 17, 17)   5632        input_1[0][0]                    \n",
      "__________________________________________________________________________________________________\n",
      "conv2d_3 (Conv2D)               (None, 32, 17, 17)   2048        input_1[0][0]                    \n",
      "__________________________________________________________________________________________________\n",
      "activation_1 (Activation)       (None, 32, 17, 17)   0           conv2d_1[0][0]                   \n",
      "__________________________________________________________________________________________________\n",
      "activation_3 (Activation)       (None, 32, 17, 17)   0           conv2d_3[0][0]                   \n",
      "__________________________________________________________________________________________________\n",
      "conv2d_2 (Conv2D)               (None, 32, 17, 17)   25632       activation_1[0][0]               \n",
      "__________________________________________________________________________________________________\n",
      "conv2d_4 (Conv2D)               (None, 32, 17, 17)   9248        activation_3[0][0]               \n",
      "__________________________________________________________________________________________________\n",
      "activation_2 (Activation)       (None, 32, 17, 17)   0           conv2d_2[0][0]                   \n",
      "__________________________________________________________________________________________________\n",
      "activation_4 (Activation)       (None, 32, 17, 17)   0           conv2d_4[0][0]                   \n",
      "__________________________________________________________________________________________________\n",
      "conv2d_5 (Conv2D)               (None, 32, 17, 17)   256         input_1[0][0]                    \n",
      "__________________________________________________________________________________________________\n",
      "lambda_1 (Lambda)               (None, 32, 17, 17)   0           activation_2[0][0]               \n",
      "__________________________________________________________________________________________________\n",
      "lambda_2 (Lambda)               (None, 32, 17, 17)   0           activation_4[0][0]               \n",
      "__________________________________________________________________________________________________\n",
      "lambda_3 (Lambda)               (None, 32, 17, 17)   0           conv2d_5[0][0]                   \n",
      "__________________________________________________________________________________________________\n",
      "add_1 (Add)                     (None, 32, 17, 17)   0           lambda_1[0][0]                   \n",
      "                                                                 lambda_2[0][0]                   \n",
      "                                                                 lambda_3[0][0]                   \n",
      "__________________________________________________________________________________________________\n",
      "max_pooling2d_1 (MaxPooling2D)  (None, 32, 8, 8)     0           add_1[0][0]                      \n",
      "__________________________________________________________________________________________________\n",
      "dropout_1 (Dropout)             (None, 32, 8, 8)     0           max_pooling2d_1[0][0]            \n",
      "__________________________________________________________________________________________________\n",
      "conv2d_6 (Conv2D)               (None, 64, 8, 8)     51264       dropout_1[0][0]                  \n",
      "__________________________________________________________________________________________________\n",
      "conv2d_8 (Conv2D)               (None, 64, 8, 8)     18496       dropout_1[0][0]                  \n",
      "__________________________________________________________________________________________________\n",
      "activation_5 (Activation)       (None, 64, 8, 8)     0           conv2d_6[0][0]                   \n",
      "__________________________________________________________________________________________________\n",
      "activation_7 (Activation)       (None, 64, 8, 8)     0           conv2d_8[0][0]                   \n",
      "__________________________________________________________________________________________________\n",
      "conv2d_7 (Conv2D)               (None, 64, 8, 8)     102464      activation_5[0][0]               \n",
      "__________________________________________________________________________________________________\n",
      "conv2d_9 (Conv2D)               (None, 64, 8, 8)     36928       activation_7[0][0]               \n",
      "__________________________________________________________________________________________________\n",
      "activation_6 (Activation)       (None, 64, 8, 8)     0           conv2d_7[0][0]                   \n",
      "__________________________________________________________________________________________________\n",
      "activation_8 (Activation)       (None, 64, 8, 8)     0           conv2d_9[0][0]                   \n",
      "__________________________________________________________________________________________________\n",
      "conv2d_10 (Conv2D)              (None, 64, 8, 8)     2112        dropout_1[0][0]                  \n",
      "__________________________________________________________________________________________________\n",
      "lambda_4 (Lambda)               (None, 64, 8, 8)     0           activation_6[0][0]               \n",
      "__________________________________________________________________________________________________\n",
      "lambda_5 (Lambda)               (None, 64, 8, 8)     0           activation_8[0][0]               \n",
      "__________________________________________________________________________________________________\n",
      "lambda_6 (Lambda)               (None, 64, 8, 8)     0           conv2d_10[0][0]                  \n",
      "__________________________________________________________________________________________________\n",
      "add_2 (Add)                     (None, 64, 8, 8)     0           lambda_4[0][0]                   \n",
      "                                                                 lambda_5[0][0]                   \n",
      "                                                                 lambda_6[0][0]                   \n",
      "__________________________________________________________________________________________________\n",
      "max_pooling2d_2 (MaxPooling2D)  (None, 64, 4, 4)     0           add_2[0][0]                      \n",
      "__________________________________________________________________________________________________\n",
      "dropout_2 (Dropout)             (None, 64, 4, 4)     0           max_pooling2d_2[0][0]            \n",
      "__________________________________________________________________________________________________\n",
      "flatten_1 (Flatten)             (None, 1024)         0           dropout_2[0][0]                  \n",
      "__________________________________________________________________________________________________\n",
      "dense_1 (Dense)                 (None, 512)          524800      flatten_1[0][0]                  \n",
      "__________________________________________________________________________________________________\n",
      "activation_9 (Activation)       (None, 512)          0           dense_1[0][0]                    \n",
      "__________________________________________________________________________________________________\n",
      "dropout_3 (Dropout)             (None, 512)          0           activation_9[0][0]               \n",
      "__________________________________________________________________________________________________\n",
      "dense_2 (Dense)                 (None, 1)            513         dropout_3[0][0]                  \n",
      "__________________________________________________________________________________________________\n",
      "activation_10 (Activation)      (None, 1)            0           dense_2[0][0]                    \n",
      "==================================================================================================\n",
      "Total params: 779,393\n",
      "Trainable params: 779,393\n",
      "Non-trainable params: 0\n",
      "__________________________________________________________________________________________________\n"
     ]
    },
    {
     "name": "stdout",
     "output_type": "stream",
     "text": [
      "Train on 590499 samples, validate on 399224 samples\n",
      "Epoch 1/100\n",
      "590499/590499 [==============================] - 163s 277us/step - loss: 0.4999 - binary_accuracy: 0.7476 - val_loss: 0.4098 - val_binary_accuracy: 0.8091\n",
      "Epoch 2/100\n",
      "590499/590499 [==============================] - 161s 273us/step - loss: 0.4180 - binary_accuracy: 0.7985 - val_loss: 0.3400 - val_binary_accuracy: 0.8459\n",
      "Epoch 3/100\n",
      "590499/590499 [==============================] - 161s 273us/step - loss: 0.3713 - binary_accuracy: 0.8250 - val_loss: 0.2954 - val_binary_accuracy: 0.8676\n",
      "Epoch 4/100\n",
      "590499/590499 [==============================] - 163s 276us/step - loss: 0.3422 - binary_accuracy: 0.8412 - val_loss: 0.2674 - val_binary_accuracy: 0.8809\n",
      "Epoch 5/100\n",
      "590499/590499 [==============================] - 163s 277us/step - loss: 0.3215 - binary_accuracy: 0.8521 - val_loss: 0.2526 - val_binary_accuracy: 0.8876\n",
      "Epoch 6/100\n",
      "590499/590499 [==============================] - 164s 278us/step - loss: 0.3063 - binary_accuracy: 0.8604 - val_loss: 0.2442 - val_binary_accuracy: 0.8921\n",
      "Epoch 7/100\n",
      "590499/590499 [==============================] - 162s 274us/step - loss: 0.2959 - binary_accuracy: 0.8659 - val_loss: 0.2467 - val_binary_accuracy: 0.8912\n"
     ]
    }
   ],
   "source": [
    "# OUTPUT NODES = 1\n",
    "\n",
    "reload(util_ml)\n",
    "reload(util_keras)\n",
    "\n",
    "NB_FILTERS_1=32\n",
    "NB_FILTERS_2=64\n",
    "\n",
    "cats=[0,1]\n",
    "\n",
    "cat=6\n",
    "# create binary data\n",
    "Y_t_bin = util_ml.make_binary(Y_train, cat, silent=True)\n",
    "Y_v_bin = util_ml.make_binary(Y_valid, cat, silent=True)\n",
    "\n",
    "#balance\n",
    "X_t_balanced, Y_t_balanced = util_ml.balance_binary(X_train, Y_t_bin, max_ratio=2.5, silent=False)    \n",
    "\n",
    "# create model\n",
    "weights = util_ml.generate_category_weights_simple(Y_t_balanced)\n",
    "print 'weights', weights\n",
    "#     loss = util_keras.weighted_categorical_crossentropy(weights)\n",
    "\n",
    "network = util_keras.build_model(util_keras.doubleres_block,input_shape=X_train.shape[-3:],output_nodes=1)\n",
    "util_keras.compile_network(network, 'binary_crossentropy', metrics=['binary_accuracy'], LR=0.001)\n",
    "\n",
    "weights_label='WCC_weights.best'\n",
    "\n",
    "filepath = data_root+'models/'+model_id+'_'+weights_label+'.hdf5'\n",
    "patience=1\n",
    "estop_cb=EarlyStopping(monitor='val_loss', min_delta=0, patience=patience, verbose=0, mode='auto')\n",
    "save_best_cb=ModelCheckpoint(filepath, monitor='val_loss', verbose=0, save_best_only=True, save_weights_only=True, \n",
    "                             mode='auto', period=1)\n",
    "history_cb=History()\n",
    "\n",
    "history_fast = network.fit(X_t_balanced, Y_t_balanced, batch_size=batch_size, epochs=epochs, validation_data=(X_valid, Y_v_bin),shuffle=True,callbacks=[estop_cb,save_best_cb,history_cb])\n",
    "###Changed by Taufiq"
   ]
  },
  {
   "cell_type": "code",
   "execution_count": 13,
   "metadata": {},
   "outputs": [
    {
     "data": {
      "image/png": "[encoded data removed]",
      "text/plain": [
       "<Figure size 432x288 with 1 Axes>"
      ]
     },
     "metadata": {},
     "output_type": "display_data"
    },
    {
     "data": {
      "image/png": "[encoded data removed]",
      "text/plain": [
       "<Figure size 432x288 with 1 Axes>"
      ]
     },
     "metadata": {},
     "output_type": "display_data"
    }
   ],
   "source": [
    "plt.plot(history_fast.history['val_binary_accuracy'])\n",
    "plt.show()\n",
    "plt.plot(history_fast.history['val_loss'])\n",
    "plt.show()"
   ]
  },
  {
   "cell_type": "code",
   "execution_count": null,
   "metadata": {},
   "outputs": [
    {
     "name": "stdout",
     "output_type": "stream",
     "text": [
      "evaluate training\n",
      "[[1.2782753e-04]\n",
      " [1.1486548e-03]\n",
      " [8.7902671e-01]\n",
      " [7.5245909e-02]\n",
      " [2.6924765e-06]\n",
      " [2.3325635e-03]\n",
      " [5.6274675e-02]\n",
      " [9.9948126e-01]\n",
      " [1.2733188e-02]\n",
      " [9.9969029e-01]\n",
      " [9.3052648e-03]\n",
      " [9.8825359e-01]\n",
      " [2.4352228e-05]\n",
      " [4.0906281e-05]\n",
      " [8.7000126e-01]\n",
      " [3.2233674e-02]\n",
      " [9.9266934e-01]\n",
      " [5.9441793e-01]\n",
      " [6.6537873e-06]\n",
      " [9.6970201e-01]]\n",
      "[0 0 1 0 0 0 0 1 0 1 0 1 0 0 1 0 1 1 0 1]\n",
      "0 421785\n",
      "1 168714\n",
      "[[390072  31713]\n",
      " [ 24527 144187]]\n",
      "590499 534259 0.9047585177959658\n",
      "[0.9248124 0.8546238] [0.9408416 0.8197101]\n",
      "\n",
      "evaluate validation\n",
      "[[4.1565061e-02]\n",
      " [1.7840478e-01]\n",
      " [1.0255206e-03]\n",
      " [1.1220242e-02]\n",
      " [3.1655233e-03]\n",
      " [2.0986827e-04]\n",
      " [4.1280496e-01]\n",
      " [2.9239336e-03]\n",
      " [7.6457065e-01]\n",
      " [9.3178070e-01]\n",
      " [9.9232413e-02]\n",
      " [9.2096543e-01]\n",
      " [1.0377216e-03]\n",
      " [8.4007974e-05]\n",
      " [9.9013197e-01]\n",
      " [8.9444667e-03]\n",
      " [9.5958579e-01]\n",
      " [4.2188849e-02]\n",
      " [9.9999821e-01]\n",
      " [3.2627586e-08]]\n",
      "[0 0 0 0 0 0 0 0 1 1 0 1 0 0 1 0 1 0 1 0]\n",
      "0 325528\n",
      "1 73696\n",
      "[[296319  29209]\n",
      " [ 14237  59459]]\n",
      "399224 355778 0.8911738773220047\n",
      "[0.91027194 0.8068145 ] [0.9541564  0.67058015]\n",
      "\n"
     ]
    }
   ],
   "source": [
    "# score model\n",
    "print \"evaluate training\"\n",
    "Yhat_t_prob = network.predict(X_t_balanced)\n",
    "Yhat_t = np.rint(Yhat_t_prob).astype(int).reshape(Yhat_t_prob.shape[0])\n",
    "print Yhat_t_prob[0:20]\n",
    "print Yhat_t[0:20]\n",
    "#Yhat_t = Yhat_t_prob.argmax(axis=-1)\n",
    "train_confusion = util_ml.calc_confusion(Yhat_t,Y_t_balanced,cats)\n",
    "train_recalls, train_precisions, train_accuracy = util_ml.calc_confusion_details(train_confusion)\n",
    "print train_recalls, train_precisions\n",
    "print\n",
    "\n",
    "print \"evaluate validation\"\n",
    "Yhat_v_prob = network.predict(X_valid)\n",
    "Yhat_v = np.rint(Yhat_v_prob).astype(int).reshape(Yhat_v_prob.shape[0])\n",
    "print Yhat_v_prob[0:20]\n",
    "print Yhat_v[0:20]\n",
    "#Yhat_v = Yhat_v_prob.argmax(axis=-1)\n",
    "valid_confusion = util_ml.calc_confusion(Yhat_v,Y_v_bin,cats)\n",
    "valid_recalls, valid_precisions, valid_accuracy = util_ml.calc_confusion_details(valid_confusion)\n",
    "print valid_recalls, valid_precisions\n",
    "print"
   ]
  },
  {
   "cell_type": "markdown",
   "metadata": {},
   "source": [
    "Reconstitute network, train slow"
   ]
  },
  {
   "cell_type": "code",
   "execution_count": null,
   "metadata": {},
   "outputs": [
    {
     "name": "stdout",
     "output_type": "stream",
     "text": [
      "__________________________________________________________________________________________________\n",
      "Layer (type)                    Output Shape         Param #     Connected to                     \n",
      "==================================================================================================\n",
      "input_2 (InputLayer)            (None, 7, 17, 17)    0                                            \n",
      "__________________________________________________________________________________________________\n",
      "conv2d_11 (Conv2D)              (None, 32, 17, 17)   5632        input_2[0][0]                    \n",
      "__________________________________________________________________________________________________\n",
      "conv2d_13 (Conv2D)              (None, 32, 17, 17)   2048        input_2[0][0]                    \n",
      "__________________________________________________________________________________________________\n",
      "activation_11 (Activation)      (None, 32, 17, 17)   0           conv2d_11[0][0]                  \n",
      "__________________________________________________________________________________________________\n",
      "activation_13 (Activation)      (None, 32, 17, 17)   0           conv2d_13[0][0]                  \n",
      "__________________________________________________________________________________________________\n",
      "conv2d_12 (Conv2D)              (None, 32, 17, 17)   25632       activation_11[0][0]              \n",
      "__________________________________________________________________________________________________\n",
      "conv2d_14 (Conv2D)              (None, 32, 17, 17)   9248        activation_13[0][0]              \n",
      "__________________________________________________________________________________________________\n",
      "activation_12 (Activation)      (None, 32, 17, 17)   0           conv2d_12[0][0]                  \n",
      "__________________________________________________________________________________________________\n",
      "activation_14 (Activation)      (None, 32, 17, 17)   0           conv2d_14[0][0]                  \n",
      "__________________________________________________________________________________________________\n",
      "conv2d_15 (Conv2D)              (None, 32, 17, 17)   256         input_2[0][0]                    \n",
      "__________________________________________________________________________________________________\n",
      "lambda_7 (Lambda)               (None, 32, 17, 17)   0           activation_12[0][0]              \n",
      "__________________________________________________________________________________________________\n",
      "lambda_8 (Lambda)               (None, 32, 17, 17)   0           activation_14[0][0]              \n",
      "__________________________________________________________________________________________________\n",
      "lambda_9 (Lambda)               (None, 32, 17, 17)   0           conv2d_15[0][0]                  \n",
      "__________________________________________________________________________________________________\n",
      "add_3 (Add)                     (None, 32, 17, 17)   0           lambda_7[0][0]                   \n",
      "                                                                 lambda_8[0][0]                   \n",
      "                                                                 lambda_9[0][0]                   \n",
      "__________________________________________________________________________________________________\n",
      "max_pooling2d_3 (MaxPooling2D)  (None, 32, 8, 8)     0           add_3[0][0]                      \n",
      "__________________________________________________________________________________________________\n",
      "dropout_4 (Dropout)             (None, 32, 8, 8)     0           max_pooling2d_3[0][0]            \n",
      "__________________________________________________________________________________________________\n",
      "conv2d_16 (Conv2D)              (None, 64, 8, 8)     51264       dropout_4[0][0]                  \n",
      "__________________________________________________________________________________________________\n",
      "conv2d_18 (Conv2D)              (None, 64, 8, 8)     18496       dropout_4[0][0]                  \n",
      "__________________________________________________________________________________________________\n",
      "activation_15 (Activation)      (None, 64, 8, 8)     0           conv2d_16[0][0]                  \n",
      "__________________________________________________________________________________________________\n",
      "activation_17 (Activation)      (None, 64, 8, 8)     0           conv2d_18[0][0]                  \n",
      "__________________________________________________________________________________________________\n",
      "conv2d_17 (Conv2D)              (None, 64, 8, 8)     102464      activation_15[0][0]              \n",
      "__________________________________________________________________________________________________\n",
      "conv2d_19 (Conv2D)              (None, 64, 8, 8)     36928       activation_17[0][0]              \n",
      "__________________________________________________________________________________________________\n",
      "activation_16 (Activation)      (None, 64, 8, 8)     0           conv2d_17[0][0]                  \n",
      "__________________________________________________________________________________________________\n",
      "activation_18 (Activation)      (None, 64, 8, 8)     0           conv2d_19[0][0]                  \n",
      "__________________________________________________________________________________________________\n",
      "conv2d_20 (Conv2D)              (None, 64, 8, 8)     2112        dropout_4[0][0]                  \n",
      "__________________________________________________________________________________________________\n",
      "lambda_10 (Lambda)              (None, 64, 8, 8)     0           activation_16[0][0]              \n",
      "__________________________________________________________________________________________________\n",
      "lambda_11 (Lambda)              (None, 64, 8, 8)     0           activation_18[0][0]              \n",
      "__________________________________________________________________________________________________\n",
      "lambda_12 (Lambda)              (None, 64, 8, 8)     0           conv2d_20[0][0]                  \n",
      "__________________________________________________________________________________________________\n",
      "add_4 (Add)                     (None, 64, 8, 8)     0           lambda_10[0][0]                  \n",
      "                                                                 lambda_11[0][0]                  \n",
      "                                                                 lambda_12[0][0]                  \n",
      "__________________________________________________________________________________________________\n",
      "max_pooling2d_4 (MaxPooling2D)  (None, 64, 4, 4)     0           add_4[0][0]                      \n",
      "__________________________________________________________________________________________________\n",
      "dropout_5 (Dropout)             (None, 64, 4, 4)     0           max_pooling2d_4[0][0]            \n",
      "__________________________________________________________________________________________________\n",
      "flatten_2 (Flatten)             (None, 1024)         0           dropout_5[0][0]                  \n",
      "__________________________________________________________________________________________________\n",
      "dense_3 (Dense)                 (None, 512)          524800      flatten_2[0][0]                  \n",
      "__________________________________________________________________________________________________\n",
      "activation_19 (Activation)      (None, 512)          0           dense_3[0][0]                    \n",
      "__________________________________________________________________________________________________\n",
      "dropout_6 (Dropout)             (None, 512)          0           activation_19[0][0]              \n",
      "__________________________________________________________________________________________________\n",
      "dense_4 (Dense)                 (None, 1)            513         dropout_6[0][0]                  \n",
      "__________________________________________________________________________________________________\n",
      "activation_20 (Activation)      (None, 1)            0           dense_4[0][0]                    \n",
      "==================================================================================================\n",
      "Total params: 779,393\n",
      "Trainable params: 779,393\n",
      "Non-trainable params: 0\n",
      "__________________________________________________________________________________________________\n",
      "Train on 590499 samples, validate on 399224 samples\n",
      "Epoch 1/100\n"
     ]
    },
    {
     "name": "stdout",
     "output_type": "stream",
     "text": [
      "590499/590499 [==============================] - 163s 276us/step - loss: 0.2597 - binary_accuracy: 0.8834 - val_loss: 0.2145 - val_binary_accuracy: 0.9056\n",
      "Epoch 2/100\n",
      "590499/590499 [==============================] - 161s 273us/step - loss: 0.2467 - binary_accuracy: 0.8893 - val_loss: 0.2096 - val_binary_accuracy: 0.9072\n",
      "Epoch 3/100\n",
      "590499/590499 [==============================] - 161s 273us/step - loss: 0.2399 - binary_accuracy: 0.8929 - val_loss: 0.2053 - val_binary_accuracy: 0.9098\n",
      "Epoch 4/100\n",
      "590499/590499 [==============================] - 162s 274us/step - loss: 0.2332 - binary_accuracy: 0.8960 - val_loss: 0.2041 - val_binary_accuracy: 0.9107\n",
      "Epoch 5/100\n",
      "590499/590499 [==============================] - 162s 274us/step - loss: 0.2305 - binary_accuracy: 0.8976 - val_loss: 0.1988 - val_binary_accuracy: 0.9126\n",
      "Epoch 6/100\n",
      "590499/590499 [==============================] - 164s 277us/step - loss: 0.2261 - binary_accuracy: 0.9002 - val_loss: 0.1970 - val_binary_accuracy: 0.9138\n",
      "Epoch 7/100\n",
      "590499/590499 [==============================] - 161s 273us/step - loss: 0.2231 - binary_accuracy: 0.9010 - val_loss: 0.1949 - val_binary_accuracy: 0.9151\n",
      "Epoch 8/100\n",
      "590499/590499 [==============================] - 162s 274us/step - loss: 0.2198 - binary_accuracy: 0.9026 - val_loss: 0.1918 - val_binary_accuracy: 0.9161\n",
      "Epoch 9/100\n",
      "590499/590499 [==============================] - 162s 274us/step - loss: 0.2171 - binary_accuracy: 0.9052 - val_loss: 0.1899 - val_binary_accuracy: 0.9169\n",
      "Epoch 10/100\n",
      "590499/590499 [==============================] - 164s 278us/step - loss: 0.2148 - binary_accuracy: 0.9059 - val_loss: 0.1883 - val_binary_accuracy: 0.9177\n",
      "Epoch 11/100\n",
      "590499/590499 [==============================] - 163s 276us/step - loss: 0.2112 - binary_accuracy: 0.9071 - val_loss: 0.1903 - val_binary_accuracy: 0.9172\n",
      "Epoch 12/100\n",
      "590499/590499 [==============================] - 163s 276us/step - loss: 0.2096 - binary_accuracy: 0.9081 - val_loss: 0.1873 - val_binary_accuracy: 0.9187\n",
      "Epoch 13/100\n",
      "590499/590499 [==============================] - 162s 274us/step - loss: 0.2070 - binary_accuracy: 0.9090 - val_loss: 0.1850 - val_binary_accuracy: 0.9200\n",
      "Epoch 14/100\n",
      "590499/590499 [==============================] - 162s 274us/step - loss: 0.2051 - binary_accuracy: 0.9104 - val_loss: 0.1847 - val_binary_accuracy: 0.9200\n",
      "Epoch 15/100\n",
      "590499/590499 [==============================] - 162s 275us/step - loss: 0.2033 - binary_accuracy: 0.9111 - val_loss: 0.1815 - val_binary_accuracy: 0.9212\n",
      "Epoch 16/100\n",
      "590499/590499 [==============================] - 162s 275us/step - loss: 0.2018 - binary_accuracy: 0.9118 - val_loss: 0.1827 - val_binary_accuracy: 0.9209\n",
      "Epoch 17/100\n",
      "590499/590499 [==============================] - 166s 281us/step - loss: 0.1996 - binary_accuracy: 0.9127 - val_loss: 0.1790 - val_binary_accuracy: 0.9224\n",
      "Epoch 18/100\n",
      "590499/590499 [==============================] - 165s 279us/step - loss: 0.1976 - binary_accuracy: 0.9138 - val_loss: 0.1789 - val_binary_accuracy: 0.9230\n",
      "Epoch 19/100\n",
      "590499/590499 [==============================] - 164s 278us/step - loss: 0.1955 - binary_accuracy: 0.9149 - val_loss: 0.1775 - val_binary_accuracy: 0.9235\n",
      "Epoch 20/100\n",
      "590499/590499 [==============================] - 164s 278us/step - loss: 0.1941 - binary_accuracy: 0.9157 - val_loss: 0.1783 - val_binary_accuracy: 0.9239\n",
      "Epoch 21/100\n",
      "590499/590499 [==============================] - 163s 276us/step - loss: 0.1924 - binary_accuracy: 0.9163 - val_loss: 0.1770 - val_binary_accuracy: 0.9240\n",
      "Epoch 22/100\n",
      "216960/590499 [==========>...................] - ETA: 1:23 - loss: 0.1897 - binary_accuracy: 0.9177"
     ]
    }
   ],
   "source": [
    "#weights_label='WCC_weights.best'\n",
    "# rebuild network\n",
    "network=util_keras.build_model(util_keras.doubleres_block,input_shape=X_train.shape[-3:],output_nodes=1)\n",
    "# load weights from fast learning\n",
    "filepath = data_root+'models/'+model_id+'_'+weights_label+'.hdf5'\n",
    "network.load_weights(filepath)\n",
    "weights_label='WCC_weights_slow.best'\n",
    "callbacks, history_path = util_keras.create_callbacks(data_root, model_id, weights_label=weights_label, patience=4)\n",
    "\n",
    "util_keras.compile_network(network, 'binary_crossentropy', metrics=['binary_accuracy'], LR=0.0001)\n",
    "# train slow\n",
    "history_slow = network.fit(X_t_balanced, Y_t_balanced, batch_size=batch_size, epochs=epochs, validation_data=(X_valid, Y_v_bin),shuffle=True,callbacks=callbacks)\n",
    "\n"
   ]
  },
  {
   "cell_type": "code",
   "execution_count": null,
   "metadata": {},
   "outputs": [],
   "source": [
    "plt.plot(history_slow.history['val_binary_accuracy'])\n",
    "plt.show()\n",
    "plt.plot(history_slow.history['val_loss'])\n",
    "plt.show()"
   ]
  },
  {
   "cell_type": "code",
   "execution_count": null,
   "metadata": {},
   "outputs": [],
   "source": [
    "# score model\n",
    "print \"evaluate training\"\n",
    "Yhat_t_prob = network.predict(X_t_balanced)\n",
    "Yhat_t = np.rint(Yhat_t_prob).astype(int).reshape(Yhat_t_prob.shape[0])\n",
    "# print Yhat_t_prob[0:20]\n",
    "# print Yhat_t[0:20]\n",
    "#Yhat_t = Yhat_t_prob.argmax(axis=-1)\n",
    "train_confusion = util_ml.calc_confusion(Yhat_t,Y_t_balanced,cats)\n",
    "train_recalls, train_precisions, train_accuracy = util_ml.calc_confusion_details(train_confusion)\n",
    "# print train_recalls, train_precisions\n",
    "print\n",
    "\n",
    "print \"evaluate validation\"\n",
    "Yhat_v_prob = network.predict(X_valid)\n",
    "Yhat_v = np.rint(Yhat_v_prob).astype(int).reshape(Yhat_v_prob.shape[0])\n",
    "# print Yhat_v_prob[0:20]\n",
    "# print Yhat_v[0:20]\n",
    "#Yhat_v = Yhat_v_prob.argmax(axis=-1)\n",
    "valid_confusion = util_ml.calc_confusion(Yhat_v,Y_v_bin,cats)\n",
    "valid_recalls, valid_precisions, valid_accuracy = util_ml.calc_confusion_details(valid_confusion)\n",
    "# print valid_recalls, valid_precisions\n",
    "print"
   ]
  },
  {
   "cell_type": "code",
   "execution_count": null,
   "metadata": {},
   "outputs": [],
   "source": [
    "# Calculate f-score\n",
    "beta = 2\n",
    "train_f_score = (beta**2 + 1) * train_precisions * train_recalls / ( (beta**2 * train_precisions) + train_recalls )\n",
    "train_f_score_open = None#train_f_score[0] \n",
    "train_f_score_nonres = None#train_f_score[1]  \n",
    "train_f_score_res = None#train_f_score[2]  \n",
    "train_f_score_roads = None#train_f_score[3]  \n",
    "train_f_score_average = np.mean(train_f_score)\n",
    "\n",
    "# Calculate f-score\n",
    "valid_f_score = (beta**2 + 1) * valid_precisions * valid_recalls / ( (beta**2 * valid_precisions) + valid_recalls )\n",
    "valid_f_score_open = None#valid_f_score[0] \n",
    "valid_f_score_nonres = None#valid_f_score[1] \n",
    "valid_f_score_res = None#valid_f_score[2] \n",
    "valid_f_score_roads = None# valid_f_score[3] \n",
    "valid_f_score_average = np.mean(valid_f_score)\n",
    "\n",
    "# expanding lists to match expected model_record stuff\n",
    "train_recalls_expanded = [train_recalls[0],None,None,train_recalls[1]]\n",
    "valid_recalls_expanded = [valid_recalls[0],None,None,valid_recalls[1]]\n",
    "train_precisions_expanded = [train_precisions[0],None,None,train_precisions[1]]\n",
    "valid_precisions_expanded = [valid_precisions[0],None,None,valid_precisions[1]]"
   ]
  },
  {
   "cell_type": "code",
   "execution_count": null,
   "metadata": {},
   "outputs": [],
   "source": [
    "scaler_filename = data_root+'models/'+model_id+'_scaler.pkl'\n",
    "#model_filename  = data_root+'models/'+model_id+'_SVM.pkl'\n",
    "network_filename = data_root+'models/'+model_id+'.hd5'\n",
    "\n",
    "if os.path.exists(scaler_filename):\n",
    "    print 'Aborting all pickle operations: file already exists at specified path ('+scaler_filename+')'\n",
    "#elif os.path.exists(model_filename):\n",
    "#    print 'Aborting all pickle operations: file already exists at specified path ('+model_filename+')'\n",
    "elif os.path.exists(network_filename):\n",
    "    print 'Aborting all pickle operations: file already exists at specified path ('+network_filename+')'\n",
    "else:\n",
    "    print scaler_filename\n",
    "#    print model_filename\n",
    "    print network_filename\n",
    "    pickle.dump(scaler, open(scaler_filename, 'wb'))\n",
    "#    pickle.dump(model, open(model_filename, 'wb'))\n",
    "    network.save(network_filename)\n",
    "    # tracking only occurs if all saves are successful\n",
    "    util_workflow.record_model_creation(\n",
    "        model_id, notes, place_images, label_suffix, resolution, stack_label, feature_count, window, cats_map, balancing, \n",
    "        network.get_config(), epochs, batch_size,\n",
    "        train_confusion, train_recalls_expanded, train_precisions_expanded, train_accuracy,\n",
    "        train_f_score_open, train_f_score_nonres, train_f_score_res, train_f_score_roads, train_f_score_average,\n",
    "        valid_confusion, valid_recalls_expanded, valid_precisions_expanded, valid_accuracy,\n",
    "        valid_f_score_open, valid_f_score_nonres, valid_f_score_res, valid_f_score_roads, valid_f_score_average,)"
   ]
  },
  {
   "cell_type": "code",
   "execution_count": null,
   "metadata": {},
   "outputs": [],
   "source": []
  }
 ],
 "metadata": {
  "kernelspec": {
   "display_name": "Python 2",
   "language": "python",
   "name": "python2"
  },
  "language_info": {
   "codemirror_mode": {
    "name": "ipython",
    "version": 2
   },
   "file_extension": ".py",
   "mimetype": "text/x-python",
   "name": "python",
   "nbconvert_exporter": "python",
   "pygments_lexer": "ipython2",
   "version": "2.7.13"
  }
 },
 "nbformat": 4,
 "nbformat_minor": 2
}
